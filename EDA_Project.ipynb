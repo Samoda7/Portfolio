
  {
   "cell_type": "markdown",
   "id": "67516332",
   "metadata": {},
   "source": [
    "### Introduction"
   ]
  },
  {
   "cell_type": "markdown",
   "id": "70bc4d55",
   "metadata": {},
   "source": [
    "In this report we are analysing data of number of people who took first, second and third doses of the COVID-19 vaccination in different regions of the UK in the years 2021 and 2022. \n",
    "\n",
    "Statistical and visualization methods are been followed to get an in depth understanding of the data given. \n"
   ]
  },
  {
   "cell_type": "code",
   "execution_count": 1,
   "id": "c30bbe11",
   "metadata": {},
   "outputs": [],
   "source": [
    "#Importing required libraries for the data analysis \n",
    "import pandas as pd\n",
    "import numpy as np\n",
    "from scipy import stats\n",
    "import statsmodels.api as sm\n",
    "import matplotlib.pyplot as plt"
   ]
  },
  {
   "cell_type": "code",
   "execution_count": 2,
   "id": "aac0b4d6",
   "metadata": {},
   "outputs": [],
   "source": [
    "#Loading data into Python\n",
    "df=pd.read_excel(\"UK_VaccinationsData.xlsx\")"
   ]
  },
  {
   "cell_type": "code",
   "execution_count": 3,
   "id": "85fa98fc",
   "metadata": {},
   "outputs": [
    {
     "data": {
      "text/html": [
       "<div>\n",
       "<style scoped>\n",
       "    .dataframe tbody tr th:only-of-type {\n",
       "        vertical-align: middle;\n",
       "    }\n",
       "\n",
       "    .dataframe tbody tr th {\n",
       "        vertical-align: top;\n",
       "    }\n",
       "\n",
       "    .dataframe thead th {\n",
       "        text-align: right;\n",
       "    }\n",
       "</style>\n",
       "<table border=\"1\" class=\"dataframe\">\n",
       "  <thead>\n",
       "    <tr style=\"text-align: right;\">\n",
       "      <th></th>\n",
       "      <th>areaName</th>\n",
       "      <th>areaCode</th>\n",
       "      <th>year</th>\n",
       "      <th>month</th>\n",
       "      <th>Quarter</th>\n",
       "      <th>day</th>\n",
       "      <th>WorkingDay</th>\n",
       "      <th>FirstDose</th>\n",
       "      <th>SecondDose</th>\n",
       "      <th>ThirdDose</th>\n",
       "    </tr>\n",
       "  </thead>\n",
       "  <tbody>\n",
       "    <tr>\n",
       "      <th>0</th>\n",
       "      <td>England</td>\n",
       "      <td>E92000001</td>\n",
       "      <td>2022.0</td>\n",
       "      <td>5</td>\n",
       "      <td>Q2</td>\n",
       "      <td>Mon</td>\n",
       "      <td>Yes</td>\n",
       "      <td>3034.0</td>\n",
       "      <td>3857.0</td>\n",
       "      <td>8747.0</td>\n",
       "    </tr>\n",
       "    <tr>\n",
       "      <th>1</th>\n",
       "      <td>England</td>\n",
       "      <td>E92000001</td>\n",
       "      <td>2022.0</td>\n",
       "      <td>5</td>\n",
       "      <td>Q2</td>\n",
       "      <td>Sun</td>\n",
       "      <td>No</td>\n",
       "      <td>5331.0</td>\n",
       "      <td>3330.0</td>\n",
       "      <td>4767.0</td>\n",
       "    </tr>\n",
       "    <tr>\n",
       "      <th>2</th>\n",
       "      <td>England</td>\n",
       "      <td>E92000001</td>\n",
       "      <td>2022.0</td>\n",
       "      <td>5</td>\n",
       "      <td>Q2</td>\n",
       "      <td>Sat</td>\n",
       "      <td>No</td>\n",
       "      <td>13852.0</td>\n",
       "      <td>9759.0</td>\n",
       "      <td>12335.0</td>\n",
       "    </tr>\n",
       "    <tr>\n",
       "      <th>3</th>\n",
       "      <td>England</td>\n",
       "      <td>E92000001</td>\n",
       "      <td>2022.0</td>\n",
       "      <td>5</td>\n",
       "      <td>Q2</td>\n",
       "      <td>Fri</td>\n",
       "      <td>Yes</td>\n",
       "      <td>5818.0</td>\n",
       "      <td>5529.0</td>\n",
       "      <td>10692.0</td>\n",
       "    </tr>\n",
       "    <tr>\n",
       "      <th>4</th>\n",
       "      <td>England</td>\n",
       "      <td>E92000001</td>\n",
       "      <td>2022.0</td>\n",
       "      <td>5</td>\n",
       "      <td>Q2</td>\n",
       "      <td>Thu</td>\n",
       "      <td>Yes</td>\n",
       "      <td>8439.0</td>\n",
       "      <td>6968.0</td>\n",
       "      <td>11701.0</td>\n",
       "    </tr>\n",
       "  </tbody>\n",
       "</table>\n",
       "</div>"
      ],
      "text/plain": [
       "  areaName   areaCode    year  month Quarter  day WorkingDay  FirstDose  \\\n",
       "0  England  E92000001  2022.0      5      Q2  Mon        Yes     3034.0   \n",
       "1  England  E92000001  2022.0      5      Q2  Sun         No     5331.0   \n",
       "2  England  E92000001  2022.0      5      Q2  Sat         No    13852.0   \n",
       "3  England  E92000001  2022.0      5      Q2  Fri        Yes     5818.0   \n",
       "4  England  E92000001  2022.0      5      Q2  Thu        Yes     8439.0   \n",
       "\n",
       "   SecondDose  ThirdDose  \n",
       "0      3857.0     8747.0  \n",
       "1      3330.0     4767.0  \n",
       "2      9759.0    12335.0  \n",
       "3      5529.0    10692.0  \n",
       "4      6968.0    11701.0  "
      ]
     },
     "execution_count": 3,
     "metadata": {},
     "output_type": "execute_result"
    }
   ],
   "source": [
    "#Preview of the data\n",
    "df.head() "
   ]
  },
  {
   "cell_type": "code",
   "execution_count": null,
   "id": "67d7e6a7",
   "metadata": {},
   "outputs": [],
   "source": []
  },
  {
   "cell_type": "markdown",
   "id": "9b5723a7",
   "metadata": {},
   "source": [
    "##### Descriptive Statistics \n"
   ]
  },
  {
   "cell_type": "code",
   "execution_count": 4,
   "id": "085efca9",
   "metadata": {},
   "outputs": [
    {
     "data": {
      "text/html": [
       "<div>\n",
       "<style scoped>\n",
       "    .dataframe tbody tr th:only-of-type {\n",
       "        vertical-align: middle;\n",
       "    }\n",
       "\n",
       "    .dataframe tbody tr th {\n",
       "        vertical-align: top;\n",
       "    }\n",
       "\n",
       "    .dataframe thead th {\n",
       "        text-align: right;\n",
       "    }\n",
       "</style>\n",
       "<table border=\"1\" class=\"dataframe\">\n",
       "  <thead>\n",
       "    <tr style=\"text-align: right;\">\n",
       "      <th></th>\n",
       "      <th>year</th>\n",
       "      <th>month</th>\n",
       "      <th>FirstDose</th>\n",
       "      <th>SecondDose</th>\n",
       "      <th>ThirdDose</th>\n",
       "    </tr>\n",
       "  </thead>\n",
       "  <tbody>\n",
       "    <tr>\n",
       "      <th>count</th>\n",
       "      <td>903.000000</td>\n",
       "      <td>904.000000</td>\n",
       "      <td>900.000000</td>\n",
       "      <td>901.000000</td>\n",
       "      <td>898.000000</td>\n",
       "    </tr>\n",
       "    <tr>\n",
       "      <th>mean</th>\n",
       "      <td>2021.625692</td>\n",
       "      <td>5.946903</td>\n",
       "      <td>4994.323333</td>\n",
       "      <td>5574.125416</td>\n",
       "      <td>42529.570156</td>\n",
       "    </tr>\n",
       "    <tr>\n",
       "      <th>std</th>\n",
       "      <td>0.484212</td>\n",
       "      <td>4.146467</td>\n",
       "      <td>9651.335670</td>\n",
       "      <td>9174.101390</td>\n",
       "      <td>104877.579915</td>\n",
       "    </tr>\n",
       "    <tr>\n",
       "      <th>min</th>\n",
       "      <td>2021.000000</td>\n",
       "      <td>1.000000</td>\n",
       "      <td>0.000000</td>\n",
       "      <td>0.000000</td>\n",
       "      <td>0.000000</td>\n",
       "    </tr>\n",
       "    <tr>\n",
       "      <th>25%</th>\n",
       "      <td>2021.000000</td>\n",
       "      <td>2.000000</td>\n",
       "      <td>338.500000</td>\n",
       "      <td>478.000000</td>\n",
       "      <td>1313.500000</td>\n",
       "    </tr>\n",
       "    <tr>\n",
       "      <th>50%</th>\n",
       "      <td>2022.000000</td>\n",
       "      <td>4.000000</td>\n",
       "      <td>876.500000</td>\n",
       "      <td>971.000000</td>\n",
       "      <td>6992.000000</td>\n",
       "    </tr>\n",
       "    <tr>\n",
       "      <th>75%</th>\n",
       "      <td>2022.000000</td>\n",
       "      <td>11.000000</td>\n",
       "      <td>3653.250000</td>\n",
       "      <td>5770.000000</td>\n",
       "      <td>23464.750000</td>\n",
       "    </tr>\n",
       "    <tr>\n",
       "      <th>max</th>\n",
       "      <td>2022.000000</td>\n",
       "      <td>12.000000</td>\n",
       "      <td>115551.000000</td>\n",
       "      <td>48491.000000</td>\n",
       "      <td>830403.000000</td>\n",
       "    </tr>\n",
       "  </tbody>\n",
       "</table>\n",
       "</div>"
      ],
      "text/plain": [
       "              year       month      FirstDose    SecondDose      ThirdDose\n",
       "count   903.000000  904.000000     900.000000    901.000000     898.000000\n",
       "mean   2021.625692    5.946903    4994.323333   5574.125416   42529.570156\n",
       "std       0.484212    4.146467    9651.335670   9174.101390  104877.579915\n",
       "min    2021.000000    1.000000       0.000000      0.000000       0.000000\n",
       "25%    2021.000000    2.000000     338.500000    478.000000    1313.500000\n",
       "50%    2022.000000    4.000000     876.500000    971.000000    6992.000000\n",
       "75%    2022.000000   11.000000    3653.250000   5770.000000   23464.750000\n",
       "max    2022.000000   12.000000  115551.000000  48491.000000  830403.000000"
      ]
     },
     "execution_count": 4,
     "metadata": {},
     "output_type": "execute_result"
    }
   ],
   "source": [
    "#Generating descriptive statistics for the dataset\n",
    "descriptive_stats = df.describe()\n",
    "descriptive_stats"
   ]
  },
  {
   "cell_type": "markdown",
   "id": "0172ed7b",
   "metadata": {},
   "source": [
    "By looking at the 'count' row in the above its evident that this data set is not consistent as some data is missing. Therefore, before deriving to conclusion on the table, we have to handle the missing data."
   ]
  },
  {
   "cell_type": "markdown",
   "id": "1d2482b6",
   "metadata": {},
   "source": [
    "##### Checking for missing values and handling them appropriately"
   ]
  },
  {
   "cell_type": "code",
   "execution_count": 5,
   "id": "07d81bec",
   "metadata": {},
   "outputs": [
    {
     "data": {
      "text/plain": [
       "areaName      0\n",
       "areaCode      0\n",
       "year          1\n",
       "month         0\n",
       "Quarter       1\n",
       "day           1\n",
       "WorkingDay    2\n",
       "FirstDose     4\n",
       "SecondDose    3\n",
       "ThirdDose     6\n",
       "dtype: int64"
      ]
     },
     "execution_count": 5,
     "metadata": {},
     "output_type": "execute_result"
    }
   ],
   "source": [
    "#Checking for missing values\n",
    "missing_values = df.isnull().sum()\n",
    "missing_values"
   ]
  },
  {
   "cell_type": "markdown",
   "id": "6f12c107",
   "metadata": {},
   "source": [
    "Each category of missing values are to be dealt accordingly."
   ]
  },
  {
   "cell_type": "code",
   "execution_count": 6,
   "id": "2f0555d1",
   "metadata": {},
   "outputs": [],
   "source": [
    "#Filling the missing 'year' value with forward filling method as the years are grouped together\n",
    "df['year'].fillna(method='ffill', inplace=True)\n"
   ]
  },
  {
   "cell_type": "code",
   "execution_count": 7,
   "id": "e4267c55",
   "metadata": {},
   "outputs": [
    {
     "data": {
      "text/plain": [
       "areaName      0\n",
       "areaCode      0\n",
       "year          0\n",
       "month         0\n",
       "Quarter       1\n",
       "day           1\n",
       "WorkingDay    2\n",
       "FirstDose     4\n",
       "SecondDose    3\n",
       "ThirdDose     6\n",
       "dtype: int64"
      ]
     },
     "execution_count": 7,
     "metadata": {},
     "output_type": "execute_result"
    }
   ],
   "source": [
    "#Checking if the year column has been filled \n",
    "missing_values = df.isnull().sum()\n",
    "missing_values"
   ]
  },
  {
   "cell_type": "markdown",
   "id": "2ad4823b",
   "metadata": {},
   "source": [
    "'year' column been filled. "
   ]
  },
  {
   "cell_type": "code",
   "execution_count": 8,
   "id": "9add6b0c",
   "metadata": {},
   "outputs": [],
   "source": [
    "# Identify columns containing continuous variables and using interpolate method to fill the missing values \n",
    "continuous_data = []\n",
    "for data in df.columns:\n",
    "    if df[data].dtype != 'object':  # checking the column is not categorical\n",
    "        continuous_data.append(data)\n",
    "\n",
    "# Interpolate missing values for Continuous variables\n",
    "df[continuous_data] = df[continuous_data].interpolate(method='linear')"
   ]
  },
  {
   "cell_type": "code",
   "execution_count": 9,
   "id": "3f55ac93",
   "metadata": {},
   "outputs": [
    {
     "data": {
      "text/plain": [
       "areaName      0\n",
       "areaCode      0\n",
       "year          0\n",
       "month         0\n",
       "Quarter       1\n",
       "day           1\n",
       "WorkingDay    2\n",
       "FirstDose     0\n",
       "SecondDose    0\n",
       "ThirdDose     0\n",
       "dtype: int64"
      ]
     },
     "execution_count": 9,
     "metadata": {},
     "output_type": "execute_result"
    }
   ],
   "source": [
    "#Checking again for missing values\n",
    "missing_values = df.isnull().sum()\n",
    "missing_values"
   ]
  },
  {
   "cell_type": "markdown",
   "id": "dfe6092d",
   "metadata": {},
   "source": [
    "Only the categorical data columns are remaining with missing values."
   ]
  },
  {
   "cell_type": "code",
   "execution_count": 10,
   "id": "ab6bc878",
   "metadata": {},
   "outputs": [],
   "source": [
    "# To fill the missing values in 'WorkingDay', we have to identify if the corresponding day is a working day or not\n",
    "\n",
    "for i, row in df.iterrows():\n",
    "    if pd.isnull(row['WorkingDay']):\n",
    "        if row['day']in ['Sat','Sun']:\n",
    "            df.loc[i,'WorkingDay']='No'\n",
    "        else:\n",
    "            df.loc[i,'WorkingDay']='Yes'\n",
    "            "
   ]
  },
  {
   "cell_type": "code",
   "execution_count": 11,
   "id": "9ac96ad6",
   "metadata": {},
   "outputs": [],
   "source": [
    "# To fill the missing 'day' value, we run the below cord with following assumptions; \n",
    "#'WorkingDay'='Yes' fill the missing value as 'Mon' \n",
    "#'WorkingDay'='No' fill the missing value as 'Sat'\n",
    "\n",
    "for i, row in df.iterrows():\n",
    "    if pd.isnull(row['day']):\n",
    "        if row['WorkingDay']in ['Yes']:\n",
    "            df.loc[i,'day']='Mon'\n",
    "        else:\n",
    "            df.loc[i,'day']='Sat'"
   ]
  },
  {
   "cell_type": "code",
   "execution_count": 12,
   "id": "c7bd47ee",
   "metadata": {},
   "outputs": [],
   "source": [
    "# To fill the missing values in 'Quarter', we need to look at the corresponding month\n",
    "for i, row in df.iterrows():\n",
    "    if pd.isnull(row['Quarter']):\n",
    "        if row['month']in [1,2,3]:\n",
    "            df.loc[i,'Quarter']=1\n",
    "        elif row['month']in [4,5,6]:\n",
    "            df.loc[i,'Quarter']=2\n",
    "        elif row['month']in [7,8,9]:\n",
    "            df.loc[i,'Quarter']=3\n",
    "        else:\n",
    "            df.loc[i,'Quarter']=4"
   ]
  },
  {
   "cell_type": "code",
   "execution_count": 13,
   "id": "d3d8916b",
   "metadata": {},
   "outputs": [
    {
     "data": {
      "text/plain": [
       "areaName      0\n",
       "areaCode      0\n",
       "year          0\n",
       "month         0\n",
       "Quarter       0\n",
       "day           0\n",
       "WorkingDay    0\n",
       "FirstDose     0\n",
       "SecondDose    0\n",
       "ThirdDose     0\n",
       "dtype: int64"
      ]
     },
     "execution_count": 13,
     "metadata": {},
     "output_type": "execute_result"
    }
   ],
   "source": [
    "#Checking again for anymore missing values\n",
    "missing_values = df.isnull().sum()\n",
    "missing_values"
   ]
  },
  {
   "cell_type": "markdown",
   "id": "6ba3c649",
   "metadata": {},
   "source": [
    "All missing values are filled."
   ]
  },
  {
   "cell_type": "code",
   "execution_count": 14,
   "id": "aab72433",
   "metadata": {},
   "outputs": [
    {
     "data": {
      "text/html": [
       "<div>\n",
       "<style scoped>\n",
       "    .dataframe tbody tr th:only-of-type {\n",
       "        vertical-align: middle;\n",
       "    }\n",
       "\n",
       "    .dataframe tbody tr th {\n",
       "        vertical-align: top;\n",
       "    }\n",
       "\n",
       "    .dataframe thead th {\n",
       "        text-align: right;\n",
       "    }\n",
       "</style>\n",
       "<table border=\"1\" class=\"dataframe\">\n",
       "  <thead>\n",
       "    <tr style=\"text-align: right;\">\n",
       "      <th></th>\n",
       "      <th>areaName</th>\n",
       "      <th>areaCode</th>\n",
       "      <th>year</th>\n",
       "      <th>month</th>\n",
       "      <th>Quarter</th>\n",
       "      <th>day</th>\n",
       "      <th>WorkingDay</th>\n",
       "      <th>FirstDose</th>\n",
       "      <th>SecondDose</th>\n",
       "      <th>ThirdDose</th>\n",
       "    </tr>\n",
       "  </thead>\n",
       "  <tbody>\n",
       "    <tr>\n",
       "      <th>0</th>\n",
       "      <td>England</td>\n",
       "      <td>E92000001</td>\n",
       "      <td>2022</td>\n",
       "      <td>5</td>\n",
       "      <td>Q2</td>\n",
       "      <td>Mon</td>\n",
       "      <td>Yes</td>\n",
       "      <td>3034</td>\n",
       "      <td>3857</td>\n",
       "      <td>8747</td>\n",
       "    </tr>\n",
       "    <tr>\n",
       "      <th>1</th>\n",
       "      <td>England</td>\n",
       "      <td>E92000001</td>\n",
       "      <td>2022</td>\n",
       "      <td>5</td>\n",
       "      <td>Q2</td>\n",
       "      <td>Sun</td>\n",
       "      <td>No</td>\n",
       "      <td>5331</td>\n",
       "      <td>3330</td>\n",
       "      <td>4767</td>\n",
       "    </tr>\n",
       "    <tr>\n",
       "      <th>2</th>\n",
       "      <td>England</td>\n",
       "      <td>E92000001</td>\n",
       "      <td>2022</td>\n",
       "      <td>5</td>\n",
       "      <td>Q2</td>\n",
       "      <td>Sat</td>\n",
       "      <td>No</td>\n",
       "      <td>13852</td>\n",
       "      <td>9759</td>\n",
       "      <td>12335</td>\n",
       "    </tr>\n",
       "    <tr>\n",
       "      <th>3</th>\n",
       "      <td>England</td>\n",
       "      <td>E92000001</td>\n",
       "      <td>2022</td>\n",
       "      <td>5</td>\n",
       "      <td>Q2</td>\n",
       "      <td>Fri</td>\n",
       "      <td>Yes</td>\n",
       "      <td>5818</td>\n",
       "      <td>5529</td>\n",
       "      <td>10692</td>\n",
       "    </tr>\n",
       "    <tr>\n",
       "      <th>4</th>\n",
       "      <td>England</td>\n",
       "      <td>E92000001</td>\n",
       "      <td>2022</td>\n",
       "      <td>5</td>\n",
       "      <td>Q2</td>\n",
       "      <td>Thu</td>\n",
       "      <td>Yes</td>\n",
       "      <td>8439</td>\n",
       "      <td>6968</td>\n",
       "      <td>11701</td>\n",
       "    </tr>\n",
       "  </tbody>\n",
       "</table>\n",
       "</div>"
      ],
      "text/plain": [
       "  areaName   areaCode  year  month Quarter  day WorkingDay  FirstDose  \\\n",
       "0  England  E92000001  2022      5      Q2  Mon        Yes       3034   \n",
       "1  England  E92000001  2022      5      Q2  Sun         No       5331   \n",
       "2  England  E92000001  2022      5      Q2  Sat         No      13852   \n",
       "3  England  E92000001  2022      5      Q2  Fri        Yes       5818   \n",
       "4  England  E92000001  2022      5      Q2  Thu        Yes       8439   \n",
       "\n",
       "   SecondDose  ThirdDose  \n",
       "0        3857       8747  \n",
       "1        3330       4767  \n",
       "2        9759      12335  \n",
       "3        5529      10692  \n",
       "4        6968      11701  "
      ]
     },
     "execution_count": 14,
     "metadata": {},
     "output_type": "execute_result"
    }
   ],
   "source": [
    "#Converting floats to integer, as years and number of people cannot be floats\n",
    "\n",
    "df['year'] = df['year'].astype(int)\n",
    "df['FirstDose'] = df['FirstDose'].astype(int)\n",
    "df['SecondDose'] = df['SecondDose'].astype(int)\n",
    "df['ThirdDose'] = df['ThirdDose'].astype(int)\n",
    "df.head() "
   ]
  },
  {
   "cell_type": "markdown",
   "id": "05305ffd",
   "metadata": {},
   "source": [
    "##### Descriptive statistics after dealing with missing values"
   ]
  },
  {
   "cell_type": "code",
   "execution_count": 15,
   "id": "1549586e",
   "metadata": {},
   "outputs": [
    {
     "data": {
      "text/html": [
       "<div>\n",
       "<style scoped>\n",
       "    .dataframe tbody tr th:only-of-type {\n",
       "        vertical-align: middle;\n",
       "    }\n",
       "\n",
       "    .dataframe tbody tr th {\n",
       "        vertical-align: top;\n",
       "    }\n",
       "\n",
       "    .dataframe thead th {\n",
       "        text-align: right;\n",
       "    }\n",
       "</style>\n",
       "<table border=\"1\" class=\"dataframe\">\n",
       "  <thead>\n",
       "    <tr style=\"text-align: right;\">\n",
       "      <th></th>\n",
       "      <th>year</th>\n",
       "      <th>month</th>\n",
       "      <th>FirstDose</th>\n",
       "      <th>SecondDose</th>\n",
       "      <th>ThirdDose</th>\n",
       "    </tr>\n",
       "  </thead>\n",
       "  <tbody>\n",
       "    <tr>\n",
       "      <th>count</th>\n",
       "      <td>904.000000</td>\n",
       "      <td>904.000000</td>\n",
       "      <td>904.000000</td>\n",
       "      <td>904.000000</td>\n",
       "      <td>904.000000</td>\n",
       "    </tr>\n",
       "    <tr>\n",
       "      <th>mean</th>\n",
       "      <td>2021.626106</td>\n",
       "      <td>5.946903</td>\n",
       "      <td>4975.063053</td>\n",
       "      <td>5559.168142</td>\n",
       "      <td>42406.243363</td>\n",
       "    </tr>\n",
       "    <tr>\n",
       "      <th>std</th>\n",
       "      <td>0.484104</td>\n",
       "      <td>4.146467</td>\n",
       "      <td>9634.285850</td>\n",
       "      <td>9162.604820</td>\n",
       "      <td>104559.157757</td>\n",
       "    </tr>\n",
       "    <tr>\n",
       "      <th>min</th>\n",
       "      <td>2021.000000</td>\n",
       "      <td>1.000000</td>\n",
       "      <td>0.000000</td>\n",
       "      <td>0.000000</td>\n",
       "      <td>0.000000</td>\n",
       "    </tr>\n",
       "    <tr>\n",
       "      <th>25%</th>\n",
       "      <td>2021.000000</td>\n",
       "      <td>2.000000</td>\n",
       "      <td>342.000000</td>\n",
       "      <td>477.500000</td>\n",
       "      <td>1314.500000</td>\n",
       "    </tr>\n",
       "    <tr>\n",
       "      <th>50%</th>\n",
       "      <td>2022.000000</td>\n",
       "      <td>4.000000</td>\n",
       "      <td>871.000000</td>\n",
       "      <td>972.000000</td>\n",
       "      <td>7394.000000</td>\n",
       "    </tr>\n",
       "    <tr>\n",
       "      <th>75%</th>\n",
       "      <td>2022.000000</td>\n",
       "      <td>11.000000</td>\n",
       "      <td>3634.250000</td>\n",
       "      <td>5739.250000</td>\n",
       "      <td>23360.250000</td>\n",
       "    </tr>\n",
       "    <tr>\n",
       "      <th>max</th>\n",
       "      <td>2022.000000</td>\n",
       "      <td>12.000000</td>\n",
       "      <td>115551.000000</td>\n",
       "      <td>48491.000000</td>\n",
       "      <td>830403.000000</td>\n",
       "    </tr>\n",
       "  </tbody>\n",
       "</table>\n",
       "</div>"
      ],
      "text/plain": [
       "              year       month      FirstDose    SecondDose      ThirdDose\n",
       "count   904.000000  904.000000     904.000000    904.000000     904.000000\n",
       "mean   2021.626106    5.946903    4975.063053   5559.168142   42406.243363\n",
       "std       0.484104    4.146467    9634.285850   9162.604820  104559.157757\n",
       "min    2021.000000    1.000000       0.000000      0.000000       0.000000\n",
       "25%    2021.000000    2.000000     342.000000    477.500000    1314.500000\n",
       "50%    2022.000000    4.000000     871.000000    972.000000    7394.000000\n",
       "75%    2022.000000   11.000000    3634.250000   5739.250000   23360.250000\n",
       "max    2022.000000   12.000000  115551.000000  48491.000000  830403.000000"
      ]
     },
     "execution_count": 15,
     "metadata": {},
     "output_type": "execute_result"
    }
   ],
   "source": [
    "descriptive_stats = df.describe()\n",
    "descriptive_stats"
   ]
  },
  {
   "cell_type": "markdown",
   "id": "bfc012ad",
   "metadata": {},
   "source": [
    "By looking at the table above, it is evident that most number of people have taken the vaccine shot per day is for the third dose. Other two doses were taken at a more or less in the same pattern with very close standard deviations and  mean values."
   ]
  },
  {
   "cell_type": "markdown",
   "id": "b5b2bae8",
   "metadata": {},
   "source": [
    "#### Data Visualization"
   ]
  },
  {
   "cell_type": "code",
   "execution_count": 16,
   "id": "d1260c9e",
   "metadata": {},
   "outputs": [
    {
     "data": {
      "text/plain": [
       "(array([770.,  72.,  40.,  21.,   0.,   0.,   0.,   0.,   0.,   1.]),\n",
       " array([     0. ,  11555.1,  23110.2,  34665.3,  46220.4,  57775.5,\n",
       "         69330.6,  80885.7,  92440.8, 103995.9, 115551. ]),\n",
       " <BarContainer object of 10 artists>)"
      ]
     },
     "execution_count": 16,
     "metadata": {},
     "output_type": "execute_result"
    },
    {
     "data": {
      "image/png": "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\n",
      "text/plain": [
       "<Figure size 640x480 with 1 Axes>"
      ]
     },
     "metadata": {},
     "output_type": "display_data"
    }
   ],
   "source": [
    "#Distribution of an individual continuous variables (FirstDose)\n",
    "plt.hist(df['FirstDose'], bins=10)\n",
    "        "
   ]
  },
  {
   "cell_type": "markdown",
   "id": "31ca2633",
   "metadata": {},
   "source": [
    "A rightly skewed histogram shows the distribution of the number of people who took the first dose. According to the histogram, the first dose has been administered to less than to 20,000 people in most of the days. It was very rarely more than 40,000 people have been turned out to take the first vaccine in a single day."
   ]
  },
  {
   "cell_type": "code",
   "execution_count": 17,
   "id": "7be22eed",
   "metadata": {},
   "outputs": [
    {
     "data": {
      "text/plain": [
       "<AxesSubplot:xlabel='SecondDose', ylabel='ThirdDose'>"
      ]
     },
     "execution_count": 17,
     "metadata": {},
     "output_type": "execute_result"
    },
    {
     "data": {
      "image/png": "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\n",
      "text/plain": [
       "<Figure size 640x480 with 1 Axes>"
      ]
     },
     "metadata": {},
     "output_type": "display_data"
    }
   ],
   "source": [
    "#Second Dose and the Third dose\n",
    "df.plot(kind='scatter', x='SecondDose', y='ThirdDose')"
   ]
  },
  {
   "cell_type": "code",
   "execution_count": 18,
   "id": "ab377a2d",
   "metadata": {},
   "outputs": [
    {
     "data": {
      "text/plain": [
       "0.7683317469613646"
      ]
     },
     "execution_count": 18,
     "metadata": {},
     "output_type": "execute_result"
    }
   ],
   "source": [
    "df['SecondDose'].corr(df['ThirdDose'], method='pearson')"
   ]
  },
  {
   "cell_type": "markdown",
   "id": "19d85147",
   "metadata": {},
   "source": [
    "In this plot there is an upward trend (positive correlation of 0.77) between the second dose and the third  dose. The positive trend represent that more the people taking the second dose, more people will take the third dose."
   ]
  },
  {
   "cell_type": "code",
   "execution_count": 19,
   "id": "b8b69d79",
   "metadata": {},
   "outputs": [
    {
     "data": {
      "text/plain": [
       "<AxesSubplot:title={'center':'SecondDose'}, xlabel='areaName'>"
      ]
     },
     "execution_count": 19,
     "metadata": {},
     "output_type": "execute_result"
    },
    {
     "data": {
      "image/png": "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\n",
      "text/plain": [
       "<Figure size 600x600 with 1 Axes>"
      ]
     },
     "metadata": {},
     "output_type": "display_data"
    }
   ],
   "source": [
    "#Area and the Second Dose\n",
    "df.boxplot(column=\"SecondDose\",by='areaName',figsize=[6,6])\n"
   ]
  },
  {
   "cell_type": "markdown",
   "id": "f0647d65",
   "metadata": {},
   "source": [
    "When categorized  the second dose according to the Area, England stand out with a high number of people taking the second dose. Scotland comes second while North Ireland and Wales taking the third place. In all regions there are outliers."
   ]
  },
  {
   "cell_type": "markdown",
   "id": "c043335e",
   "metadata": {},
   "source": [
    "#### Unique values of a Categorical Variable and its' Frequencies"
   ]
  },
  {
   "cell_type": "code",
   "execution_count": 20,
   "id": "c1e353a3",
   "metadata": {},
   "outputs": [
    {
     "data": {
      "text/plain": [
       "array(['England', 'Northern Ireland', 'Scotland', 'Wales'], dtype=object)"
      ]
     },
     "execution_count": 20,
     "metadata": {},
     "output_type": "execute_result"
    }
   ],
   "source": [
    "#Categorical variable selected 'WorkingDay'\n",
    "df['areaName'].unique()"
   ]
  },
  {
   "cell_type": "code",
   "execution_count": 21,
   "id": "31553752",
   "metadata": {},
   "outputs": [
    {
     "data": {
      "text/plain": [
       "England             236\n",
       "Northern Ireland    236\n",
       "Scotland            222\n",
       "Wales               210\n",
       "Name: areaName, dtype: int64"
      ]
     },
     "execution_count": 21,
     "metadata": {},
     "output_type": "execute_result"
    }
   ],
   "source": [
    "#Values of the variable\n",
    "value_counts = df['areaName'].value_counts()\n",
    "value_counts"
   ]
  },
  {
   "cell_type": "code",
   "execution_count": 22,
   "id": "f81e361d",
   "metadata": {},
   "outputs": [
    {
     "data": {
      "text/plain": [
       "England             0.261062\n",
       "Northern Ireland    0.261062\n",
       "Scotland            0.245575\n",
       "Wales               0.232301\n",
       "Name: areaName, dtype: float64"
      ]
     },
     "execution_count": 22,
     "metadata": {},
     "output_type": "execute_result"
    }
   ],
   "source": [
    "#propotional frequencies of the category variable\n",
    "Frequency_counts = df['areaName'].value_counts(normalize=True)\n",
    "Frequency_counts "
   ]
  },
  {
   "cell_type": "code",
   "execution_count": 23,
   "id": "b1b683be",
   "metadata": {},
   "outputs": [
    {
     "data": {
      "text/plain": [
       "<AxesSubplot:xlabel='areaName'>"
      ]
     },
     "execution_count": 23,
     "metadata": {},
     "output_type": "execute_result"
    },
    {
     "data": {
      "image/png": "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\n",
      "text/plain": [
       "<Figure size 640x480 with 1 Axes>"
      ]
     },
     "metadata": {},
     "output_type": "display_data"
    }
   ],
   "source": [
    "value_counts.plot(kind=\"bar\", rot=0, xlabel='areaName')"
   ]
  },
  {
   "cell_type": "markdown",
   "id": "02b8cb4f",
   "metadata": {},
   "source": [
    "Looking at the frequencies of the categorical variable 'areaName' it is evident that, to be fair to every region, equal amount of days have been considered for this data set from England and North Ireland and the number of days considered from Scotland and Wales are lesser but proportionately that's a very small difference."
   ]
  },
  {
   "cell_type": "markdown",
   "id": "877eea10",
   "metadata": {},
   "source": [
    "#### Contingency Table with Two Categorical Variables"
   ]
  },
  {
   "cell_type": "code",
   "execution_count": 24,
   "id": "417e3f96",
   "metadata": {},
   "outputs": [
    {
     "data": {
      "text/html": [
       "<div>\n",
       "<style scoped>\n",
       "    .dataframe tbody tr th:only-of-type {\n",
       "        vertical-align: middle;\n",
       "    }\n",
       "\n",
       "    .dataframe tbody tr th {\n",
       "        vertical-align: top;\n",
       "    }\n",
       "\n",
       "    .dataframe thead th {\n",
       "        text-align: right;\n",
       "    }\n",
       "</style>\n",
       "<table border=\"1\" class=\"dataframe\">\n",
       "  <thead>\n",
       "    <tr style=\"text-align: right;\">\n",
       "      <th>year</th>\n",
       "      <th>2021</th>\n",
       "      <th>2022</th>\n",
       "    </tr>\n",
       "    <tr>\n",
       "      <th>areaName</th>\n",
       "      <th></th>\n",
       "      <th></th>\n",
       "    </tr>\n",
       "  </thead>\n",
       "  <tbody>\n",
       "    <tr>\n",
       "      <th>England</th>\n",
       "      <td>93</td>\n",
       "      <td>143</td>\n",
       "    </tr>\n",
       "    <tr>\n",
       "      <th>Northern Ireland</th>\n",
       "      <td>93</td>\n",
       "      <td>143</td>\n",
       "    </tr>\n",
       "    <tr>\n",
       "      <th>Scotland</th>\n",
       "      <td>80</td>\n",
       "      <td>142</td>\n",
       "    </tr>\n",
       "    <tr>\n",
       "      <th>Wales</th>\n",
       "      <td>72</td>\n",
       "      <td>138</td>\n",
       "    </tr>\n",
       "  </tbody>\n",
       "</table>\n",
       "</div>"
      ],
      "text/plain": [
       "year              2021  2022\n",
       "areaName                    \n",
       "England             93   143\n",
       "Northern Ireland    93   143\n",
       "Scotland            80   142\n",
       "Wales               72   138"
      ]
     },
     "execution_count": 24,
     "metadata": {},
     "output_type": "execute_result"
    }
   ],
   "source": [
    "# Creating a contingency table for areaName and year\n",
    "contingency_table = pd.crosstab(df['areaName'], df['year'])\n",
    "contingency_table"
   ]
  },
  {
   "cell_type": "code",
   "execution_count": 25,
   "id": "164fea06",
   "metadata": {},
   "outputs": [
    {
     "data": {
      "text/html": [
       "<div>\n",
       "<style scoped>\n",
       "    .dataframe tbody tr th:only-of-type {\n",
       "        vertical-align: middle;\n",
       "    }\n",
       "\n",
       "    .dataframe tbody tr th {\n",
       "        vertical-align: top;\n",
       "    }\n",
       "\n",
       "    .dataframe thead th {\n",
       "        text-align: right;\n",
       "    }\n",
       "</style>\n",
       "<table border=\"1\" class=\"dataframe\">\n",
       "  <thead>\n",
       "    <tr style=\"text-align: right;\">\n",
       "      <th>year</th>\n",
       "      <th>2021</th>\n",
       "      <th>2022</th>\n",
       "    </tr>\n",
       "    <tr>\n",
       "      <th>areaName</th>\n",
       "      <th></th>\n",
       "      <th></th>\n",
       "    </tr>\n",
       "  </thead>\n",
       "  <tbody>\n",
       "    <tr>\n",
       "      <th>England</th>\n",
       "      <td>0.102876</td>\n",
       "      <td>0.158186</td>\n",
       "    </tr>\n",
       "    <tr>\n",
       "      <th>Northern Ireland</th>\n",
       "      <td>0.102876</td>\n",
       "      <td>0.158186</td>\n",
       "    </tr>\n",
       "    <tr>\n",
       "      <th>Scotland</th>\n",
       "      <td>0.088496</td>\n",
       "      <td>0.157080</td>\n",
       "    </tr>\n",
       "    <tr>\n",
       "      <th>Wales</th>\n",
       "      <td>0.079646</td>\n",
       "      <td>0.152655</td>\n",
       "    </tr>\n",
       "  </tbody>\n",
       "</table>\n",
       "</div>"
      ],
      "text/plain": [
       "year                  2021      2022\n",
       "areaName                            \n",
       "England           0.102876  0.158186\n",
       "Northern Ireland  0.102876  0.158186\n",
       "Scotland          0.088496  0.157080\n",
       "Wales             0.079646  0.152655"
      ]
     },
     "execution_count": 25,
     "metadata": {},
     "output_type": "execute_result"
    }
   ],
   "source": [
    "#Proportions of the Contingency Table\n",
    "contingency_table = pd.crosstab(df['areaName'], df['year'], normalize=True)\n",
    "contingency_table"
   ]
  },
  {
   "cell_type": "code",
   "execution_count": 26,
   "id": "e3550581",
   "metadata": {},
   "outputs": [
    {
     "data": {
      "text/plain": [
       "<AxesSubplot:xlabel='Area Name'>"
      ]
     },
     "execution_count": 26,
     "metadata": {},
     "output_type": "execute_result"
    },
    {
     "data": {
      "image/png": "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\n",
      "text/plain": [
       "<Figure size 640x480 with 1 Axes>"
      ]
     },
     "metadata": {},
     "output_type": "display_data"
    }
   ],
   "source": [
    "#Contingency table values represented in a stacked bar chart\n",
    "contingency_table.plot(kind=\"bar\", stacked=True, rot=0, xlabel='Area Name')"
   ]
  },
  {
   "cell_type": "markdown",
   "id": "70e96f90",
   "metadata": {},
   "source": [
    "Comparing two categorical variables Area and Year will show how many days in each year we consider for the analysis with regard to each Area. This comparison show that more days in 2022 has been considered for data set from the four areas."
   ]
  },
  {
   "cell_type": "markdown",
   "id": "40cc4317",
   "metadata": {},
   "source": [
    "##### chi-square test for two catergorical variables"
   ]
  },
  {
   "cell_type": "code",
   "execution_count": 27,
   "id": "08dc5b59",
   "metadata": {},
   "outputs": [
    {
     "name": "stdout",
     "output_type": "stream",
     "text": [
      "p-value: 0.9999752253041772\n"
     ]
    }
   ],
   "source": [
    "#chi-square test on the contingency table (area vs year)\n",
    "chi2, p_val, dof, expected = stats.chi2_contingency(contingency_table)\n",
    "print(f\"p-value: {p_val}\")"
   ]
  },
  {
   "cell_type": "markdown",
   "id": "3135e71b",
   "metadata": {},
   "source": [
    "Chi-square test is to compare whether two categorical variables are independent. Null hypothesis is that two variables are independent and the alternative is that they are dependent.\n",
    "\n",
    "From above results, we can see that p-value is almost 1, more than the significance level of 0.05. Therefore, we fail to reject the null hypothesis that the two variables are independent."
   ]
  },
  {
   "cell_type": "markdown",
   "id": "2fdf1147",
   "metadata": {},
   "source": [
    "#### Creating Subsets "
   ]
  },
  {
   "cell_type": "markdown",
   "id": "039773e9",
   "metadata": {},
   "source": [
    "##### Subset 1"
   ]
  },
  {
   "cell_type": "code",
   "execution_count": 28,
   "id": "95d2fae7",
   "metadata": {},
   "outputs": [
    {
     "data": {
      "text/html": [
       "<div>\n",
       "<style scoped>\n",
       "    .dataframe tbody tr th:only-of-type {\n",
       "        vertical-align: middle;\n",
       "    }\n",
       "\n",
       "    .dataframe tbody tr th {\n",
       "        vertical-align: top;\n",
       "    }\n",
       "\n",
       "    .dataframe thead th {\n",
       "        text-align: right;\n",
       "    }\n",
       "</style>\n",
       "<table border=\"1\" class=\"dataframe\">\n",
       "  <thead>\n",
       "    <tr style=\"text-align: right;\">\n",
       "      <th></th>\n",
       "      <th>areaName</th>\n",
       "      <th>areaCode</th>\n",
       "      <th>year</th>\n",
       "      <th>month</th>\n",
       "      <th>Quarter</th>\n",
       "      <th>day</th>\n",
       "      <th>WorkingDay</th>\n",
       "      <th>FirstDose</th>\n",
       "      <th>SecondDose</th>\n",
       "      <th>ThirdDose</th>\n",
       "    </tr>\n",
       "  </thead>\n",
       "  <tbody>\n",
       "    <tr>\n",
       "      <th>697</th>\n",
       "      <td>Wales</td>\n",
       "      <td>W92000004</td>\n",
       "      <td>2022</td>\n",
       "      <td>5</td>\n",
       "      <td>Q2</td>\n",
       "      <td>Sun</td>\n",
       "      <td>No</td>\n",
       "      <td>289</td>\n",
       "      <td>256</td>\n",
       "      <td>324</td>\n",
       "    </tr>\n",
       "    <tr>\n",
       "      <th>698</th>\n",
       "      <td>Wales</td>\n",
       "      <td>W92000004</td>\n",
       "      <td>2022</td>\n",
       "      <td>5</td>\n",
       "      <td>Q2</td>\n",
       "      <td>Sat</td>\n",
       "      <td>No</td>\n",
       "      <td>1329</td>\n",
       "      <td>292</td>\n",
       "      <td>235</td>\n",
       "    </tr>\n",
       "    <tr>\n",
       "      <th>704</th>\n",
       "      <td>Wales</td>\n",
       "      <td>W92000004</td>\n",
       "      <td>2022</td>\n",
       "      <td>5</td>\n",
       "      <td>Q2</td>\n",
       "      <td>Sun</td>\n",
       "      <td>No</td>\n",
       "      <td>513</td>\n",
       "      <td>202</td>\n",
       "      <td>355</td>\n",
       "    </tr>\n",
       "    <tr>\n",
       "      <th>705</th>\n",
       "      <td>Wales</td>\n",
       "      <td>W92000004</td>\n",
       "      <td>2022</td>\n",
       "      <td>5</td>\n",
       "      <td>Q2</td>\n",
       "      <td>Sat</td>\n",
       "      <td>No</td>\n",
       "      <td>1645</td>\n",
       "      <td>309</td>\n",
       "      <td>388</td>\n",
       "    </tr>\n",
       "    <tr>\n",
       "      <th>711</th>\n",
       "      <td>Wales</td>\n",
       "      <td>W92000004</td>\n",
       "      <td>2022</td>\n",
       "      <td>5</td>\n",
       "      <td>Q2</td>\n",
       "      <td>Sun</td>\n",
       "      <td>No</td>\n",
       "      <td>359</td>\n",
       "      <td>157</td>\n",
       "      <td>337</td>\n",
       "    </tr>\n",
       "  </tbody>\n",
       "</table>\n",
       "</div>"
      ],
      "text/plain": [
       "    areaName   areaCode  year  month Quarter  day WorkingDay  FirstDose  \\\n",
       "697    Wales  W92000004  2022      5      Q2  Sun         No        289   \n",
       "698    Wales  W92000004  2022      5      Q2  Sat         No       1329   \n",
       "704    Wales  W92000004  2022      5      Q2  Sun         No        513   \n",
       "705    Wales  W92000004  2022      5      Q2  Sat         No       1645   \n",
       "711    Wales  W92000004  2022      5      Q2  Sun         No        359   \n",
       "\n",
       "     SecondDose  ThirdDose  \n",
       "697         256        324  \n",
       "698         292        235  \n",
       "704         202        355  \n",
       "705         309        388  \n",
       "711         157        337  "
      ]
     },
     "execution_count": 28,
     "metadata": {},
     "output_type": "execute_result"
    }
   ],
   "source": [
    "#Selecting a subset where vaccines was given in Wales on a Weekend in 2022\n",
    "subset1= df[(df[\"areaName\"]== 'Wales') & (df['year']==2022)& (df['WorkingDay']=='No') ]\n",
    "subset1.head()"
   ]
  },
  {
   "cell_type": "code",
   "execution_count": 29,
   "id": "0f09722a",
   "metadata": {},
   "outputs": [
    {
     "data": {
      "text/html": [
       "<div>\n",
       "<style scoped>\n",
       "    .dataframe tbody tr th:only-of-type {\n",
       "        vertical-align: middle;\n",
       "    }\n",
       "\n",
       "    .dataframe tbody tr th {\n",
       "        vertical-align: top;\n",
       "    }\n",
       "\n",
       "    .dataframe thead th {\n",
       "        text-align: right;\n",
       "    }\n",
       "</style>\n",
       "<table border=\"1\" class=\"dataframe\">\n",
       "  <thead>\n",
       "    <tr style=\"text-align: right;\">\n",
       "      <th></th>\n",
       "      <th>year</th>\n",
       "      <th>month</th>\n",
       "      <th>FirstDose</th>\n",
       "      <th>SecondDose</th>\n",
       "      <th>ThirdDose</th>\n",
       "    </tr>\n",
       "  </thead>\n",
       "  <tbody>\n",
       "    <tr>\n",
       "      <th>count</th>\n",
       "      <td>40.0</td>\n",
       "      <td>40.000000</td>\n",
       "      <td>40.00000</td>\n",
       "      <td>40.000000</td>\n",
       "      <td>40.00000</td>\n",
       "    </tr>\n",
       "    <tr>\n",
       "      <th>mean</th>\n",
       "      <td>2022.0</td>\n",
       "      <td>2.775000</td>\n",
       "      <td>621.25000</td>\n",
       "      <td>1132.225000</td>\n",
       "      <td>1709.25000</td>\n",
       "    </tr>\n",
       "    <tr>\n",
       "      <th>std</th>\n",
       "      <td>0.0</td>\n",
       "      <td>1.386519</td>\n",
       "      <td>432.58992</td>\n",
       "      <td>1509.431944</td>\n",
       "      <td>2440.93353</td>\n",
       "    </tr>\n",
       "    <tr>\n",
       "      <th>min</th>\n",
       "      <td>2022.0</td>\n",
       "      <td>1.000000</td>\n",
       "      <td>0.00000</td>\n",
       "      <td>4.000000</td>\n",
       "      <td>18.00000</td>\n",
       "    </tr>\n",
       "    <tr>\n",
       "      <th>25%</th>\n",
       "      <td>2022.0</td>\n",
       "      <td>1.750000</td>\n",
       "      <td>288.50000</td>\n",
       "      <td>304.750000</td>\n",
       "      <td>379.75000</td>\n",
       "    </tr>\n",
       "    <tr>\n",
       "      <th>50%</th>\n",
       "      <td>2022.0</td>\n",
       "      <td>3.000000</td>\n",
       "      <td>536.50000</td>\n",
       "      <td>529.500000</td>\n",
       "      <td>704.00000</td>\n",
       "    </tr>\n",
       "    <tr>\n",
       "      <th>75%</th>\n",
       "      <td>2022.0</td>\n",
       "      <td>4.000000</td>\n",
       "      <td>865.50000</td>\n",
       "      <td>1133.000000</td>\n",
       "      <td>1481.75000</td>\n",
       "    </tr>\n",
       "    <tr>\n",
       "      <th>max</th>\n",
       "      <td>2022.0</td>\n",
       "      <td>5.000000</td>\n",
       "      <td>1646.00000</td>\n",
       "      <td>6247.000000</td>\n",
       "      <td>10761.00000</td>\n",
       "    </tr>\n",
       "  </tbody>\n",
       "</table>\n",
       "</div>"
      ],
      "text/plain": [
       "         year      month   FirstDose   SecondDose    ThirdDose\n",
       "count    40.0  40.000000    40.00000    40.000000     40.00000\n",
       "mean   2022.0   2.775000   621.25000  1132.225000   1709.25000\n",
       "std       0.0   1.386519   432.58992  1509.431944   2440.93353\n",
       "min    2022.0   1.000000     0.00000     4.000000     18.00000\n",
       "25%    2022.0   1.750000   288.50000   304.750000    379.75000\n",
       "50%    2022.0   3.000000   536.50000   529.500000    704.00000\n",
       "75%    2022.0   4.000000   865.50000  1133.000000   1481.75000\n",
       "max    2022.0   5.000000  1646.00000  6247.000000  10761.00000"
      ]
     },
     "execution_count": 29,
     "metadata": {},
     "output_type": "execute_result"
    }
   ],
   "source": [
    "#Descriptive statistics of subset1\n",
    "subset1.describe()"
   ]
  },
  {
   "cell_type": "markdown",
   "id": "fa3a70a8",
   "metadata": {},
   "source": [
    "In Wales, vaccines are administrated in 40 days in the weekends in 2022. More people have turned out in the weekends for the third dose compared with other two doses."
   ]
  },
  {
   "cell_type": "markdown",
   "id": "e3accf8a",
   "metadata": {},
   "source": [
    "##### Subset 2"
   ]
  },
  {
   "cell_type": "code",
   "execution_count": 30,
   "id": "242d6ee4",
   "metadata": {},
   "outputs": [
    {
     "data": {
      "text/html": [
       "<div>\n",
       "<style scoped>\n",
       "    .dataframe tbody tr th:only-of-type {\n",
       "        vertical-align: middle;\n",
       "    }\n",
       "\n",
       "    .dataframe tbody tr th {\n",
       "        vertical-align: top;\n",
       "    }\n",
       "\n",
       "    .dataframe thead th {\n",
       "        text-align: right;\n",
       "    }\n",
       "</style>\n",
       "<table border=\"1\" class=\"dataframe\">\n",
       "  <thead>\n",
       "    <tr style=\"text-align: right;\">\n",
       "      <th></th>\n",
       "      <th>areaName</th>\n",
       "      <th>areaCode</th>\n",
       "      <th>year</th>\n",
       "      <th>month</th>\n",
       "      <th>Quarter</th>\n",
       "      <th>day</th>\n",
       "      <th>WorkingDay</th>\n",
       "      <th>FirstDose</th>\n",
       "      <th>SecondDose</th>\n",
       "      <th>ThirdDose</th>\n",
       "    </tr>\n",
       "  </thead>\n",
       "  <tbody>\n",
       "    <tr>\n",
       "      <th>9</th>\n",
       "      <td>England</td>\n",
       "      <td>E92000001</td>\n",
       "      <td>2022</td>\n",
       "      <td>5</td>\n",
       "      <td>Q2</td>\n",
       "      <td>Sat</td>\n",
       "      <td>No</td>\n",
       "      <td>17404</td>\n",
       "      <td>11423</td>\n",
       "      <td>13473</td>\n",
       "    </tr>\n",
       "    <tr>\n",
       "      <th>16</th>\n",
       "      <td>England</td>\n",
       "      <td>E92000001</td>\n",
       "      <td>2022</td>\n",
       "      <td>5</td>\n",
       "      <td>Q2</td>\n",
       "      <td>Sat</td>\n",
       "      <td>No</td>\n",
       "      <td>20794</td>\n",
       "      <td>13514</td>\n",
       "      <td>15447</td>\n",
       "    </tr>\n",
       "    <tr>\n",
       "      <th>23</th>\n",
       "      <td>England</td>\n",
       "      <td>E92000001</td>\n",
       "      <td>2022</td>\n",
       "      <td>4</td>\n",
       "      <td>Q2</td>\n",
       "      <td>Sat</td>\n",
       "      <td>No</td>\n",
       "      <td>24522</td>\n",
       "      <td>13377</td>\n",
       "      <td>15783</td>\n",
       "    </tr>\n",
       "    <tr>\n",
       "      <th>30</th>\n",
       "      <td>England</td>\n",
       "      <td>E92000001</td>\n",
       "      <td>2022</td>\n",
       "      <td>4</td>\n",
       "      <td>Q2</td>\n",
       "      <td>Sat</td>\n",
       "      <td>No</td>\n",
       "      <td>27649</td>\n",
       "      <td>15265</td>\n",
       "      <td>17742</td>\n",
       "    </tr>\n",
       "    <tr>\n",
       "      <th>37</th>\n",
       "      <td>England</td>\n",
       "      <td>E92000001</td>\n",
       "      <td>2022</td>\n",
       "      <td>4</td>\n",
       "      <td>Q2</td>\n",
       "      <td>Sat</td>\n",
       "      <td>No</td>\n",
       "      <td>15987</td>\n",
       "      <td>10134</td>\n",
       "      <td>10344</td>\n",
       "    </tr>\n",
       "  </tbody>\n",
       "</table>\n",
       "</div>"
      ],
      "text/plain": [
       "   areaName   areaCode  year  month Quarter  day WorkingDay  FirstDose  \\\n",
       "9   England  E92000001  2022      5      Q2  Sat         No      17404   \n",
       "16  England  E92000001  2022      5      Q2  Sat         No      20794   \n",
       "23  England  E92000001  2022      4      Q2  Sat         No      24522   \n",
       "30  England  E92000001  2022      4      Q2  Sat         No      27649   \n",
       "37  England  E92000001  2022      4      Q2  Sat         No      15987   \n",
       "\n",
       "    SecondDose  ThirdDose  \n",
       "9        11423      13473  \n",
       "16       13514      15447  \n",
       "23       13377      15783  \n",
       "30       15265      17742  \n",
       "37       10134      10344  "
      ]
     },
     "execution_count": 30,
     "metadata": {},
     "output_type": "execute_result"
    }
   ],
   "source": [
    "#Selecting a subset where all the doses are taken more than 10000 people per day in 2022 \n",
    "subset2= df[(df['FirstDose']>10000) & (df['SecondDose']>10000) & (df['ThirdDose']>10000) &(df[\"year\"]== 2022)]\n",
    "subset2.head()"
   ]
  },
  {
   "cell_type": "code",
   "execution_count": 31,
   "id": "dde04019",
   "metadata": {},
   "outputs": [
    {
     "data": {
      "text/html": [
       "<div>\n",
       "<style scoped>\n",
       "    .dataframe tbody tr th:only-of-type {\n",
       "        vertical-align: middle;\n",
       "    }\n",
       "\n",
       "    .dataframe tbody tr th {\n",
       "        vertical-align: top;\n",
       "    }\n",
       "\n",
       "    .dataframe thead th {\n",
       "        text-align: right;\n",
       "    }\n",
       "</style>\n",
       "<table border=\"1\" class=\"dataframe\">\n",
       "  <thead>\n",
       "    <tr style=\"text-align: right;\">\n",
       "      <th></th>\n",
       "      <th>year</th>\n",
       "      <th>month</th>\n",
       "      <th>FirstDose</th>\n",
       "      <th>SecondDose</th>\n",
       "      <th>ThirdDose</th>\n",
       "    </tr>\n",
       "  </thead>\n",
       "  <tbody>\n",
       "    <tr>\n",
       "      <th>count</th>\n",
       "      <td>47.0</td>\n",
       "      <td>47.000000</td>\n",
       "      <td>47.000000</td>\n",
       "      <td>47.000000</td>\n",
       "      <td>47.000000</td>\n",
       "    </tr>\n",
       "    <tr>\n",
       "      <th>mean</th>\n",
       "      <td>2022.0</td>\n",
       "      <td>1.829787</td>\n",
       "      <td>16601.255319</td>\n",
       "      <td>23475.000000</td>\n",
       "      <td>63121.936170</td>\n",
       "    </tr>\n",
       "    <tr>\n",
       "      <th>std</th>\n",
       "      <td>0.0</td>\n",
       "      <td>1.307489</td>\n",
       "      <td>4535.585919</td>\n",
       "      <td>7576.562668</td>\n",
       "      <td>54407.918287</td>\n",
       "    </tr>\n",
       "    <tr>\n",
       "      <th>min</th>\n",
       "      <td>2022.0</td>\n",
       "      <td>1.000000</td>\n",
       "      <td>10058.000000</td>\n",
       "      <td>10085.000000</td>\n",
       "      <td>10344.000000</td>\n",
       "    </tr>\n",
       "    <tr>\n",
       "      <th>25%</th>\n",
       "      <td>2022.0</td>\n",
       "      <td>1.000000</td>\n",
       "      <td>13718.000000</td>\n",
       "      <td>21158.500000</td>\n",
       "      <td>28159.000000</td>\n",
       "    </tr>\n",
       "    <tr>\n",
       "      <th>50%</th>\n",
       "      <td>2022.0</td>\n",
       "      <td>1.000000</td>\n",
       "      <td>15987.000000</td>\n",
       "      <td>24300.000000</td>\n",
       "      <td>44732.000000</td>\n",
       "    </tr>\n",
       "    <tr>\n",
       "      <th>75%</th>\n",
       "      <td>2022.0</td>\n",
       "      <td>2.000000</td>\n",
       "      <td>18889.000000</td>\n",
       "      <td>26674.500000</td>\n",
       "      <td>88671.500000</td>\n",
       "    </tr>\n",
       "    <tr>\n",
       "      <th>max</th>\n",
       "      <td>2022.0</td>\n",
       "      <td>5.000000</td>\n",
       "      <td>29231.000000</td>\n",
       "      <td>41351.000000</td>\n",
       "      <td>206676.000000</td>\n",
       "    </tr>\n",
       "  </tbody>\n",
       "</table>\n",
       "</div>"
      ],
      "text/plain": [
       "         year      month     FirstDose    SecondDose      ThirdDose\n",
       "count    47.0  47.000000     47.000000     47.000000      47.000000\n",
       "mean   2022.0   1.829787  16601.255319  23475.000000   63121.936170\n",
       "std       0.0   1.307489   4535.585919   7576.562668   54407.918287\n",
       "min    2022.0   1.000000  10058.000000  10085.000000   10344.000000\n",
       "25%    2022.0   1.000000  13718.000000  21158.500000   28159.000000\n",
       "50%    2022.0   1.000000  15987.000000  24300.000000   44732.000000\n",
       "75%    2022.0   2.000000  18889.000000  26674.500000   88671.500000\n",
       "max    2022.0   5.000000  29231.000000  41351.000000  206676.000000"
      ]
     },
     "execution_count": 31,
     "metadata": {},
     "output_type": "execute_result"
    }
   ],
   "source": [
    "subset2.describe()"
   ]
  },
  {
   "cell_type": "code",
   "execution_count": 32,
   "id": "0d6a5434",
   "metadata": {},
   "outputs": [
    {
     "data": {
      "text/plain": [
       "England    47\n",
       "Name: areaName, dtype: int64"
      ]
     },
     "execution_count": 32,
     "metadata": {},
     "output_type": "execute_result"
    }
   ],
   "source": [
    "subset2 ['areaName'].value_counts()"
   ]
  },
  {
   "cell_type": "code",
   "execution_count": 33,
   "id": "e53e4f87",
   "metadata": {},
   "outputs": [
    {
     "data": {
      "text/plain": [
       "Sat    12\n",
       "Wed     7\n",
       "Thu     6\n",
       "Tue     6\n",
       "Mon     6\n",
       "Fri     5\n",
       "Sun     5\n",
       "Name: day, dtype: int64"
      ]
     },
     "execution_count": 33,
     "metadata": {},
     "output_type": "execute_result"
    }
   ],
   "source": [
    "subset2 ['day'].value_counts()"
   ]
  },
  {
   "cell_type": "markdown",
   "id": "9fddfd3e",
   "metadata": {},
   "source": [
    "This subset is created to get an idea about whether there are days that more than 10,000 people took all the vaccine doses in 2022. Only in 47 days this scenario had taken place. Further analysing, it is evident that in all the 47 days it has occured in England and the most popular day is Saturday for this many people to turn out for the vaccinations.\n",
    "\n",
    "Creating subsets such as this will help authorities to make future decisions like restocking vaccines and minimising the waiting times. "
   ]
  },
  {
   "cell_type": "markdown",
   "id": "839c9723",
   "metadata": {},
   "source": [
    "#### Hypothesis Testing"
   ]
  },
  {
   "cell_type": "markdown",
   "id": "83545830",
   "metadata": {},
   "source": [
    "To compare the differences between two means a hypothesis testing can be done. \n",
    "Here the means of people taking the first dose of 2021 and 2022 are being compared. Independent two sample t-test have been chosen as it assesses if there is a notable distinction between the means of two populations that the samples were taken from."
   ]
  },
  {
   "cell_type": "markdown",
   "id": "8c31a557",
   "metadata": {},
   "source": [
    "Null hypothesis will be there are no difference between the means and the alternate is there is a difference between the means.\n",
    "\n",
    "$H_0: \\mu = 0$\n",
    "\n",
    "$H_A: \\mu \\ne 0$\n",
    "\n",
    "A this is a two tailed test, the rejection area is on either side of the distribution, 0.05 significance level has been chosen.\n"
   ]
  },
  {
   "cell_type": "code",
   "execution_count": 34,
   "id": "16cdd5fb",
   "metadata": {},
   "outputs": [
    {
     "name": "stdout",
     "output_type": "stream",
     "text": [
      "t-value: 8.584844484820177, p_value: 3.944872572777756e-17\n"
     ]
    }
   ],
   "source": [
    "# Selecting the two time series\n",
    "year_one= df[df['year'] == 2021]['FirstDose']\n",
    "year_two= df[df['year'] == 2022]['FirstDose']\n",
    "\n",
    "#Calculating the test statistic\n",
    "\n",
    "t_val, p_val = stats.ttest_ind(year_one, year_two)\n",
    "\n",
    "# The computed t and p values are: \n",
    "print (f\"t-value: {t_val}, p_value: {p_val}\")"
   ]
  },
  {
   "cell_type": "markdown",
   "id": "47ca7ae9",
   "metadata": {},
   "source": [
    "The p value is smaller than the 0.05. So, we reject the null hypothesis that there is no difference between the averages between first dose taken in 2022 & 2021 "
   ]
  },
  {
   "cell_type": "markdown",
   "id": "f207bdc6",
   "metadata": {},
   "source": [
    "#### Grouping Categorical Variables"
   ]
  },
  {
   "cell_type": "markdown",
   "id": "5650e5f9",
   "metadata": {},
   "source": [
    "##### First Group"
   ]
  },
  {
   "cell_type": "code",
   "execution_count": 35,
   "id": "57b93583",
   "metadata": {},
   "outputs": [
    {
     "data": {
      "text/html": [
       "<div>\n",
       "<style scoped>\n",
       "    .dataframe tbody tr th:only-of-type {\n",
       "        vertical-align: middle;\n",
       "    }\n",
       "\n",
       "    .dataframe tbody tr th {\n",
       "        vertical-align: top;\n",
       "    }\n",
       "\n",
       "    .dataframe thead th {\n",
       "        text-align: right;\n",
       "    }\n",
       "</style>\n",
       "<table border=\"1\" class=\"dataframe\">\n",
       "  <thead>\n",
       "    <tr style=\"text-align: right;\">\n",
       "      <th></th>\n",
       "      <th>year</th>\n",
       "      <th>month</th>\n",
       "      <th>FirstDose</th>\n",
       "      <th>SecondDose</th>\n",
       "      <th>ThirdDose</th>\n",
       "    </tr>\n",
       "    <tr>\n",
       "      <th>areaName</th>\n",
       "      <th></th>\n",
       "      <th></th>\n",
       "      <th></th>\n",
       "      <th></th>\n",
       "      <th></th>\n",
       "    </tr>\n",
       "  </thead>\n",
       "  <tbody>\n",
       "    <tr>\n",
       "      <th>England</th>\n",
       "      <td>477099</td>\n",
       "      <td>1436</td>\n",
       "      <td>3981185</td>\n",
       "      <td>4358688</td>\n",
       "      <td>32157854</td>\n",
       "    </tr>\n",
       "    <tr>\n",
       "      <th>Northern Ireland</th>\n",
       "      <td>477099</td>\n",
       "      <td>1436</td>\n",
       "      <td>117163</td>\n",
       "      <td>135641</td>\n",
       "      <td>1129759</td>\n",
       "    </tr>\n",
       "    <tr>\n",
       "      <th>Scotland</th>\n",
       "      <td>448804</td>\n",
       "      <td>1302</td>\n",
       "      <td>259871</td>\n",
       "      <td>348347</td>\n",
       "      <td>3281276</td>\n",
       "    </tr>\n",
       "    <tr>\n",
       "      <th>Wales</th>\n",
       "      <td>424548</td>\n",
       "      <td>1202</td>\n",
       "      <td>139238</td>\n",
       "      <td>182812</td>\n",
       "      <td>1766355</td>\n",
       "    </tr>\n",
       "  </tbody>\n",
       "</table>\n",
       "</div>"
      ],
      "text/plain": [
       "                    year  month  FirstDose  SecondDose  ThirdDose\n",
       "areaName                                                         \n",
       "England           477099   1436    3981185     4358688   32157854\n",
       "Northern Ireland  477099   1436     117163      135641    1129759\n",
       "Scotland          448804   1302     259871      348347    3281276\n",
       "Wales             424548   1202     139238      182812    1766355"
      ]
     },
     "execution_count": 35,
     "metadata": {},
     "output_type": "execute_result"
    }
   ],
   "source": [
    "#Grouping variables by Areas\n",
    "df.groupby (\"areaName\").sum()"
   ]
  },
  {
   "cell_type": "code",
   "execution_count": 36,
   "id": "22ace77f",
   "metadata": {},
   "outputs": [
    {
     "data": {
      "text/html": [
       "<div>\n",
       "<style scoped>\n",
       "    .dataframe tbody tr th:only-of-type {\n",
       "        vertical-align: middle;\n",
       "    }\n",
       "\n",
       "    .dataframe tbody tr th {\n",
       "        vertical-align: top;\n",
       "    }\n",
       "\n",
       "    .dataframe thead th {\n",
       "        text-align: right;\n",
       "    }\n",
       "</style>\n",
       "<table border=\"1\" class=\"dataframe\">\n",
       "  <thead>\n",
       "    <tr style=\"text-align: right;\">\n",
       "      <th></th>\n",
       "      <th>year</th>\n",
       "      <th>month</th>\n",
       "      <th>FirstDose</th>\n",
       "      <th>SecondDose</th>\n",
       "      <th>ThirdDose</th>\n",
       "    </tr>\n",
       "    <tr>\n",
       "      <th>areaName</th>\n",
       "      <th></th>\n",
       "      <th></th>\n",
       "      <th></th>\n",
       "      <th></th>\n",
       "      <th></th>\n",
       "    </tr>\n",
       "  </thead>\n",
       "  <tbody>\n",
       "    <tr>\n",
       "      <th>England</th>\n",
       "      <td>2021.605932</td>\n",
       "      <td>6.084746</td>\n",
       "      <td>16869.427966</td>\n",
       "      <td>18469.016949</td>\n",
       "      <td>136262.093220</td>\n",
       "    </tr>\n",
       "    <tr>\n",
       "      <th>Northern Ireland</th>\n",
       "      <td>2021.605932</td>\n",
       "      <td>6.084746</td>\n",
       "      <td>496.453390</td>\n",
       "      <td>574.750000</td>\n",
       "      <td>4787.114407</td>\n",
       "    </tr>\n",
       "    <tr>\n",
       "      <th>Scotland</th>\n",
       "      <td>2021.639640</td>\n",
       "      <td>5.864865</td>\n",
       "      <td>1170.590090</td>\n",
       "      <td>1569.130631</td>\n",
       "      <td>14780.522523</td>\n",
       "    </tr>\n",
       "    <tr>\n",
       "      <th>Wales</th>\n",
       "      <td>2021.657143</td>\n",
       "      <td>5.723810</td>\n",
       "      <td>663.038095</td>\n",
       "      <td>870.533333</td>\n",
       "      <td>8411.214286</td>\n",
       "    </tr>\n",
       "  </tbody>\n",
       "</table>\n",
       "</div>"
      ],
      "text/plain": [
       "                         year     month     FirstDose    SecondDose  \\\n",
       "areaName                                                              \n",
       "England           2021.605932  6.084746  16869.427966  18469.016949   \n",
       "Northern Ireland  2021.605932  6.084746    496.453390    574.750000   \n",
       "Scotland          2021.639640  5.864865   1170.590090   1569.130631   \n",
       "Wales             2021.657143  5.723810    663.038095    870.533333   \n",
       "\n",
       "                      ThirdDose  \n",
       "areaName                         \n",
       "England           136262.093220  \n",
       "Northern Ireland    4787.114407  \n",
       "Scotland           14780.522523  \n",
       "Wales               8411.214286  "
      ]
     },
     "execution_count": 36,
     "metadata": {},
     "output_type": "execute_result"
    }
   ],
   "source": [
    "#Getting the averages of Grouped Variables\n",
    "df.groupby (\"areaName\").mean()"
   ]
  },
  {
   "cell_type": "markdown",
   "id": "2cd28579",
   "metadata": {},
   "source": [
    "Compared with all the areas, third dose is administered the most. North Ireland is in last in all the vaccine types with less people taking the vaccine. As we haven't taken the population in each area into account, we cannot conclude about the whether these turnouts are good or bad."
   ]
  },
  {
   "cell_type": "markdown",
   "id": "85d129fb",
   "metadata": {},
   "source": [
    "##### Second Group"
   ]
  },
  {
   "cell_type": "code",
   "execution_count": 37,
   "id": "74638f9d",
   "metadata": {},
   "outputs": [
    {
     "data": {
      "text/html": [
       "<div>\n",
       "<style scoped>\n",
       "    .dataframe tbody tr th:only-of-type {\n",
       "        vertical-align: middle;\n",
       "    }\n",
       "\n",
       "    .dataframe tbody tr th {\n",
       "        vertical-align: top;\n",
       "    }\n",
       "\n",
       "    .dataframe thead th {\n",
       "        text-align: right;\n",
       "    }\n",
       "</style>\n",
       "<table border=\"1\" class=\"dataframe\">\n",
       "  <thead>\n",
       "    <tr style=\"text-align: right;\">\n",
       "      <th></th>\n",
       "      <th>year</th>\n",
       "      <th>month</th>\n",
       "      <th>FirstDose</th>\n",
       "      <th>SecondDose</th>\n",
       "      <th>ThirdDose</th>\n",
       "    </tr>\n",
       "    <tr>\n",
       "      <th>day</th>\n",
       "      <th></th>\n",
       "      <th></th>\n",
       "      <th></th>\n",
       "      <th></th>\n",
       "      <th></th>\n",
       "    </tr>\n",
       "  </thead>\n",
       "  <tbody>\n",
       "    <tr>\n",
       "      <th>Fri</th>\n",
       "      <td>260788</td>\n",
       "      <td>787</td>\n",
       "      <td>633483</td>\n",
       "      <td>714175</td>\n",
       "      <td>5358274</td>\n",
       "    </tr>\n",
       "    <tr>\n",
       "      <th>Mon</th>\n",
       "      <td>262812</td>\n",
       "      <td>766</td>\n",
       "      <td>574766</td>\n",
       "      <td>639018</td>\n",
       "      <td>4873867</td>\n",
       "    </tr>\n",
       "    <tr>\n",
       "      <th>Sat</th>\n",
       "      <td>262813</td>\n",
       "      <td>753</td>\n",
       "      <td>711849</td>\n",
       "      <td>869109</td>\n",
       "      <td>6142245</td>\n",
       "    </tr>\n",
       "    <tr>\n",
       "      <th>Sun</th>\n",
       "      <td>262813</td>\n",
       "      <td>757</td>\n",
       "      <td>460943</td>\n",
       "      <td>544678</td>\n",
       "      <td>3734745</td>\n",
       "    </tr>\n",
       "    <tr>\n",
       "      <th>Thu</th>\n",
       "      <td>262809</td>\n",
       "      <td>791</td>\n",
       "      <td>704324</td>\n",
       "      <td>775290</td>\n",
       "      <td>6179360</td>\n",
       "    </tr>\n",
       "    <tr>\n",
       "      <th>Tue</th>\n",
       "      <td>256747</td>\n",
       "      <td>754</td>\n",
       "      <td>660907</td>\n",
       "      <td>715340</td>\n",
       "      <td>5767919</td>\n",
       "    </tr>\n",
       "    <tr>\n",
       "      <th>Wed</th>\n",
       "      <td>258768</td>\n",
       "      <td>768</td>\n",
       "      <td>751185</td>\n",
       "      <td>767878</td>\n",
       "      <td>6278834</td>\n",
       "    </tr>\n",
       "  </tbody>\n",
       "</table>\n",
       "</div>"
      ],
      "text/plain": [
       "       year  month  FirstDose  SecondDose  ThirdDose\n",
       "day                                                 \n",
       "Fri  260788    787     633483      714175    5358274\n",
       "Mon  262812    766     574766      639018    4873867\n",
       "Sat  262813    753     711849      869109    6142245\n",
       "Sun  262813    757     460943      544678    3734745\n",
       "Thu  262809    791     704324      775290    6179360\n",
       "Tue  256747    754     660907      715340    5767919\n",
       "Wed  258768    768     751185      767878    6278834"
      ]
     },
     "execution_count": 37,
     "metadata": {},
     "output_type": "execute_result"
    }
   ],
   "source": [
    "##Grouping variables by days\n",
    "df.groupby (\"day\").sum()"
   ]
  },
  {
   "cell_type": "code",
   "execution_count": 38,
   "id": "98391e3a",
   "metadata": {},
   "outputs": [
    {
     "data": {
      "text/html": [
       "<div>\n",
       "<style scoped>\n",
       "    .dataframe tbody tr th:only-of-type {\n",
       "        vertical-align: middle;\n",
       "    }\n",
       "\n",
       "    .dataframe tbody tr th {\n",
       "        vertical-align: top;\n",
       "    }\n",
       "\n",
       "    .dataframe thead th {\n",
       "        text-align: right;\n",
       "    }\n",
       "</style>\n",
       "<table border=\"1\" class=\"dataframe\">\n",
       "  <thead>\n",
       "    <tr style=\"text-align: right;\">\n",
       "      <th></th>\n",
       "      <th>year</th>\n",
       "      <th>month</th>\n",
       "      <th>FirstDose</th>\n",
       "      <th>SecondDose</th>\n",
       "      <th>ThirdDose</th>\n",
       "    </tr>\n",
       "    <tr>\n",
       "      <th>day</th>\n",
       "      <th></th>\n",
       "      <th></th>\n",
       "      <th></th>\n",
       "      <th></th>\n",
       "      <th></th>\n",
       "    </tr>\n",
       "  </thead>\n",
       "  <tbody>\n",
       "    <tr>\n",
       "      <th>Fri</th>\n",
       "      <td>2021.612403</td>\n",
       "      <td>6.100775</td>\n",
       "      <td>4910.720930</td>\n",
       "      <td>5536.240310</td>\n",
       "      <td>41537.007752</td>\n",
       "    </tr>\n",
       "    <tr>\n",
       "      <th>Mon</th>\n",
       "      <td>2021.630769</td>\n",
       "      <td>5.892308</td>\n",
       "      <td>4421.276923</td>\n",
       "      <td>4915.523077</td>\n",
       "      <td>37491.284615</td>\n",
       "    </tr>\n",
       "    <tr>\n",
       "      <th>Sat</th>\n",
       "      <td>2021.638462</td>\n",
       "      <td>5.792308</td>\n",
       "      <td>5475.761538</td>\n",
       "      <td>6685.453846</td>\n",
       "      <td>47248.038462</td>\n",
       "    </tr>\n",
       "    <tr>\n",
       "      <th>Sun</th>\n",
       "      <td>2021.638462</td>\n",
       "      <td>5.823077</td>\n",
       "      <td>3545.715385</td>\n",
       "      <td>4189.830769</td>\n",
       "      <td>28728.807692</td>\n",
       "    </tr>\n",
       "    <tr>\n",
       "      <th>Thu</th>\n",
       "      <td>2021.607692</td>\n",
       "      <td>6.084615</td>\n",
       "      <td>5417.876923</td>\n",
       "      <td>5963.769231</td>\n",
       "      <td>47533.538462</td>\n",
       "    </tr>\n",
       "    <tr>\n",
       "      <th>Tue</th>\n",
       "      <td>2021.629921</td>\n",
       "      <td>5.937008</td>\n",
       "      <td>5203.992126</td>\n",
       "      <td>5632.598425</td>\n",
       "      <td>45416.685039</td>\n",
       "    </tr>\n",
       "    <tr>\n",
       "      <th>Wed</th>\n",
       "      <td>2021.625000</td>\n",
       "      <td>6.000000</td>\n",
       "      <td>5868.632812</td>\n",
       "      <td>5999.046875</td>\n",
       "      <td>49053.390625</td>\n",
       "    </tr>\n",
       "  </tbody>\n",
       "</table>\n",
       "</div>"
      ],
      "text/plain": [
       "            year     month    FirstDose   SecondDose     ThirdDose\n",
       "day                                                               \n",
       "Fri  2021.612403  6.100775  4910.720930  5536.240310  41537.007752\n",
       "Mon  2021.630769  5.892308  4421.276923  4915.523077  37491.284615\n",
       "Sat  2021.638462  5.792308  5475.761538  6685.453846  47248.038462\n",
       "Sun  2021.638462  5.823077  3545.715385  4189.830769  28728.807692\n",
       "Thu  2021.607692  6.084615  5417.876923  5963.769231  47533.538462\n",
       "Tue  2021.629921  5.937008  5203.992126  5632.598425  45416.685039\n",
       "Wed  2021.625000  6.000000  5868.632812  5999.046875  49053.390625"
      ]
     },
     "execution_count": 38,
     "metadata": {},
     "output_type": "execute_result"
    }
   ],
   "source": [
    "#Getting the averages of Grouped Variables\n",
    "df.groupby (\"day\").mean()"
   ]
  },
  {
   "cell_type": "markdown",
   "id": "5e545bac",
   "metadata": {},
   "source": [
    " The main finding in this group is, Sundays turnout to get the vaccines are low comparative to the other days with regard to all doses."
   ]
  },
  {
   "cell_type": "markdown",
   "id": "57174eca",
   "metadata": {},
   "source": [
    "#### Linear Regression "
   ]
  },
  {
   "cell_type": "markdown",
   "id": "305046f2",
   "metadata": {},
   "source": [
    "The predictability of a dependant variable by one or more independent variables can be determine using linear regression.\n",
    "\n",
    "There is Simple and multiple linear regression. Multiple linear regression uses two or more independent variables with the same dependent variable and simple linear regression uses just one independent variable and one dependent variable."
   ]
  },
  {
   "cell_type": "code",
   "execution_count": 39,
   "id": "62e527b7",
   "metadata": {},
   "outputs": [],
   "source": [
    "#Multiple linear regression model to see how much the third dose can be interpreted by the first dose and the second dose\n",
    "model = sm.OLS.from_formula(\n",
    "    'ThirdDose ~ FirstDose+ SecondDose', data=df).fit()"
   ]
  },
  {
   "cell_type": "code",
   "execution_count": 40,
   "id": "fd9e9f19",
   "metadata": {},
   "outputs": [
    {
     "data": {
      "text/html": [
       "<table class=\"simpletable\">\n",
       "<caption>OLS Regression Results</caption>\n",
       "<tr>\n",
       "  <th>Dep. Variable:</th>        <td>ThirdDose</td>    <th>  R-squared:         </th> <td>   0.646</td> \n",
       "</tr>\n",
       "<tr>\n",
       "  <th>Model:</th>                   <td>OLS</td>       <th>  Adj. R-squared:    </th> <td>   0.645</td> \n",
       "</tr>\n",
       "<tr>\n",
       "  <th>Method:</th>             <td>Least Squares</td>  <th>  F-statistic:       </th> <td>   820.6</td> \n",
       "</tr>\n",
       "<tr>\n",
       "  <th>Date:</th>             <td>Fri, 31 Mar 2023</td> <th>  Prob (F-statistic):</th> <td>1.13e-203</td>\n",
       "</tr>\n",
       "<tr>\n",
       "  <th>Time:</th>                 <td>02:43:21</td>     <th>  Log-Likelihood:    </th> <td> -11261.</td> \n",
       "</tr>\n",
       "<tr>\n",
       "  <th>No. Observations:</th>      <td>   904</td>      <th>  AIC:               </th> <td>2.253e+04</td>\n",
       "</tr>\n",
       "<tr>\n",
       "  <th>Df Residuals:</th>          <td>   901</td>      <th>  BIC:               </th> <td>2.254e+04</td>\n",
       "</tr>\n",
       "<tr>\n",
       "  <th>Df Model:</th>              <td>     2</td>      <th>                     </th>     <td> </td>    \n",
       "</tr>\n",
       "<tr>\n",
       "  <th>Covariance Type:</th>      <td>nonrobust</td>    <th>                     </th>     <td> </td>    \n",
       "</tr>\n",
       "</table>\n",
       "<table class=\"simpletable\">\n",
       "<tr>\n",
       "       <td></td>         <th>coef</th>     <th>std err</th>      <th>t</th>      <th>P>|t|</th>  <th>[0.025</th>    <th>0.975]</th>  \n",
       "</tr>\n",
       "<tr>\n",
       "  <th>Intercept</th>  <td>-6770.2644</td> <td> 2424.878</td> <td>   -2.792</td> <td> 0.005</td> <td>-1.15e+04</td> <td>-2011.198</td>\n",
       "</tr>\n",
       "<tr>\n",
       "  <th>FirstDose</th>  <td>    4.6372</td> <td>    0.391</td> <td>   11.852</td> <td> 0.000</td> <td>    3.869</td> <td>    5.405</td>\n",
       "</tr>\n",
       "<tr>\n",
       "  <th>SecondDose</th> <td>    4.6961</td> <td>    0.411</td> <td>   11.415</td> <td> 0.000</td> <td>    3.889</td> <td>    5.503</td>\n",
       "</tr>\n",
       "</table>\n",
       "<table class=\"simpletable\">\n",
       "<tr>\n",
       "  <th>Omnibus:</th>       <td>544.545</td> <th>  Durbin-Watson:     </th> <td>   0.224</td> \n",
       "</tr>\n",
       "<tr>\n",
       "  <th>Prob(Omnibus):</th> <td> 0.000</td>  <th>  Jarque-Bera (JB):  </th> <td>12671.839</td>\n",
       "</tr>\n",
       "<tr>\n",
       "  <th>Skew:</th>          <td> 2.295</td>  <th>  Prob(JB):          </th> <td>    0.00</td> \n",
       "</tr>\n",
       "<tr>\n",
       "  <th>Kurtosis:</th>      <td>20.758</td>  <th>  Cond. No.          </th> <td>1.73e+04</td> \n",
       "</tr>\n",
       "</table><br/><br/>Notes:<br/>[1] Standard Errors assume that the covariance matrix of the errors is correctly specified.<br/>[2] The condition number is large, 1.73e+04. This might indicate that there are<br/>strong multicollinearity or other numerical problems."
      ],
      "text/plain": [
       "<class 'statsmodels.iolib.summary.Summary'>\n",
       "\"\"\"\n",
       "                            OLS Regression Results                            \n",
       "==============================================================================\n",
       "Dep. Variable:              ThirdDose   R-squared:                       0.646\n",
       "Model:                            OLS   Adj. R-squared:                  0.645\n",
       "Method:                 Least Squares   F-statistic:                     820.6\n",
       "Date:                Fri, 31 Mar 2023   Prob (F-statistic):          1.13e-203\n",
       "Time:                        02:43:21   Log-Likelihood:                -11261.\n",
       "No. Observations:                 904   AIC:                         2.253e+04\n",
       "Df Residuals:                     901   BIC:                         2.254e+04\n",
       "Df Model:                           2                                         \n",
       "Covariance Type:            nonrobust                                         \n",
       "==============================================================================\n",
       "                 coef    std err          t      P>|t|      [0.025      0.975]\n",
       "------------------------------------------------------------------------------\n",
       "Intercept  -6770.2644   2424.878     -2.792      0.005   -1.15e+04   -2011.198\n",
       "FirstDose      4.6372      0.391     11.852      0.000       3.869       5.405\n",
       "SecondDose     4.6961      0.411     11.415      0.000       3.889       5.503\n",
       "==============================================================================\n",
       "Omnibus:                      544.545   Durbin-Watson:                   0.224\n",
       "Prob(Omnibus):                  0.000   Jarque-Bera (JB):            12671.839\n",
       "Skew:                           2.295   Prob(JB):                         0.00\n",
       "Kurtosis:                      20.758   Cond. No.                     1.73e+04\n",
       "==============================================================================\n",
       "\n",
       "Notes:\n",
       "[1] Standard Errors assume that the covariance matrix of the errors is correctly specified.\n",
       "[2] The condition number is large, 1.73e+04. This might indicate that there are\n",
       "strong multicollinearity or other numerical problems.\n",
       "\"\"\""
      ]
     },
     "execution_count": 40,
     "metadata": {},
     "output_type": "execute_result"
    }
   ],
   "source": [
    "model.summary()"
   ]
  },
  {
   "cell_type": "markdown",
   "id": "ee560b9f",
   "metadata": {},
   "source": [
    "In this model we are getting an Adjusted R-squared of 0.645 and p values tells that both first dose and second dose are significant to the model. This seems like a good model to predict the third dose. But the model has to meet few assumptions to be adequate."
   ]
  },
  {
   "cell_type": "code",
   "execution_count": 41,
   "id": "88ed1ec8",
   "metadata": {},
   "outputs": [
    {
     "data": {
      "text/plain": [
       "0.8350781539831041"
      ]
     },
     "execution_count": 41,
     "metadata": {},
     "output_type": "execute_result"
    }
   ],
   "source": [
    "#corellation between the two independent variables\n",
    "df['FirstDose'].corr(df['SecondDose'], method='pearson')"
   ]
  },
  {
   "cell_type": "markdown",
   "id": "f8b9683c",
   "metadata": {},
   "source": [
    "There is a high correlation between the two independent variables. The model has a multicollinearity  error.Therefore, we must run simple regression with each independent variables and select the model that fits the best."
   ]
  },
  {
   "cell_type": "code",
   "execution_count": 42,
   "id": "51f31f8f",
   "metadata": {},
   "outputs": [
    {
     "data": {
      "text/html": [
       "<table class=\"simpletable\">\n",
       "<caption>OLS Regression Results</caption>\n",
       "<tr>\n",
       "  <th>Dep. Variable:</th>        <td>ThirdDose</td>    <th>  R-squared:         </th> <td>   0.594</td> \n",
       "</tr>\n",
       "<tr>\n",
       "  <th>Model:</th>                   <td>OLS</td>       <th>  Adj. R-squared:    </th> <td>   0.594</td> \n",
       "</tr>\n",
       "<tr>\n",
       "  <th>Method:</th>             <td>Least Squares</td>  <th>  F-statistic:       </th> <td>   1322.</td> \n",
       "</tr>\n",
       "<tr>\n",
       "  <th>Date:</th>             <td>Fri, 31 Mar 2023</td> <th>  Prob (F-statistic):</th> <td>6.62e-179</td>\n",
       "</tr>\n",
       "<tr>\n",
       "  <th>Time:</th>                 <td>02:43:22</td>     <th>  Log-Likelihood:    </th> <td> -11322.</td> \n",
       "</tr>\n",
       "<tr>\n",
       "  <th>No. Observations:</th>      <td>   904</td>      <th>  AIC:               </th> <td>2.265e+04</td>\n",
       "</tr>\n",
       "<tr>\n",
       "  <th>Df Residuals:</th>          <td>   902</td>      <th>  BIC:               </th> <td>2.266e+04</td>\n",
       "</tr>\n",
       "<tr>\n",
       "  <th>Df Model:</th>              <td>     1</td>      <th>                     </th>     <td> </td>    \n",
       "</tr>\n",
       "<tr>\n",
       "  <th>Covariance Type:</th>      <td>nonrobust</td>    <th>                     </th>     <td> </td>    \n",
       "</tr>\n",
       "</table>\n",
       "<table class=\"simpletable\">\n",
       "<tr>\n",
       "      <td></td>         <th>coef</th>     <th>std err</th>      <th>t</th>      <th>P>|t|</th>  <th>[0.025</th>    <th>0.975]</th>  \n",
       "</tr>\n",
       "<tr>\n",
       "  <th>Intercept</th> <td>  781.0362</td> <td> 2494.500</td> <td>    0.313</td> <td> 0.754</td> <td>-4114.663</td> <td> 5676.735</td>\n",
       "</tr>\n",
       "<tr>\n",
       "  <th>FirstDose</th> <td>    8.3668</td> <td>    0.230</td> <td>   36.352</td> <td> 0.000</td> <td>    7.915</td> <td>    8.818</td>\n",
       "</tr>\n",
       "</table>\n",
       "<table class=\"simpletable\">\n",
       "<tr>\n",
       "  <th>Omnibus:</th>       <td>694.202</td> <th>  Durbin-Watson:     </th> <td>   0.317</td> \n",
       "</tr>\n",
       "<tr>\n",
       "  <th>Prob(Omnibus):</th> <td> 0.000</td>  <th>  Jarque-Bera (JB):  </th> <td>28482.900</td>\n",
       "</tr>\n",
       "<tr>\n",
       "  <th>Skew:</th>          <td> 3.070</td>  <th>  Prob(JB):          </th> <td>    0.00</td> \n",
       "</tr>\n",
       "<tr>\n",
       "  <th>Kurtosis:</th>      <td>29.805</td>  <th>  Cond. No.          </th> <td>1.22e+04</td> \n",
       "</tr>\n",
       "</table><br/><br/>Notes:<br/>[1] Standard Errors assume that the covariance matrix of the errors is correctly specified.<br/>[2] The condition number is large, 1.22e+04. This might indicate that there are<br/>strong multicollinearity or other numerical problems."
      ],
      "text/plain": [
       "<class 'statsmodels.iolib.summary.Summary'>\n",
       "\"\"\"\n",
       "                            OLS Regression Results                            \n",
       "==============================================================================\n",
       "Dep. Variable:              ThirdDose   R-squared:                       0.594\n",
       "Model:                            OLS   Adj. R-squared:                  0.594\n",
       "Method:                 Least Squares   F-statistic:                     1322.\n",
       "Date:                Fri, 31 Mar 2023   Prob (F-statistic):          6.62e-179\n",
       "Time:                        02:43:22   Log-Likelihood:                -11322.\n",
       "No. Observations:                 904   AIC:                         2.265e+04\n",
       "Df Residuals:                     902   BIC:                         2.266e+04\n",
       "Df Model:                           1                                         \n",
       "Covariance Type:            nonrobust                                         \n",
       "==============================================================================\n",
       "                 coef    std err          t      P>|t|      [0.025      0.975]\n",
       "------------------------------------------------------------------------------\n",
       "Intercept    781.0362   2494.500      0.313      0.754   -4114.663    5676.735\n",
       "FirstDose      8.3668      0.230     36.352      0.000       7.915       8.818\n",
       "==============================================================================\n",
       "Omnibus:                      694.202   Durbin-Watson:                   0.317\n",
       "Prob(Omnibus):                  0.000   Jarque-Bera (JB):            28482.900\n",
       "Skew:                           3.070   Prob(JB):                         0.00\n",
       "Kurtosis:                      29.805   Cond. No.                     1.22e+04\n",
       "==============================================================================\n",
       "\n",
       "Notes:\n",
       "[1] Standard Errors assume that the covariance matrix of the errors is correctly specified.\n",
       "[2] The condition number is large, 1.22e+04. This might indicate that there are\n",
       "strong multicollinearity or other numerical problems.\n",
       "\"\"\""
      ]
     },
     "execution_count": 42,
     "metadata": {},
     "output_type": "execute_result"
    }
   ],
   "source": [
    "#simple linear regression between first dose and third dose\n",
    "model_1 = sm.OLS.from_formula(\n",
    "    'ThirdDose ~ FirstDose', data=df).fit()\n",
    "model_1.summary()"
   ]
  },
  {
   "cell_type": "code",
   "execution_count": 43,
   "id": "f99e63cc",
   "metadata": {},
   "outputs": [
    {
     "data": {
      "text/html": [
       "<table class=\"simpletable\">\n",
       "<caption>OLS Regression Results</caption>\n",
       "<tr>\n",
       "  <th>Dep. Variable:</th>        <td>ThirdDose</td>    <th>  R-squared:         </th> <td>   0.590</td> \n",
       "</tr>\n",
       "<tr>\n",
       "  <th>Model:</th>                   <td>OLS</td>       <th>  Adj. R-squared:    </th> <td>   0.590</td> \n",
       "</tr>\n",
       "<tr>\n",
       "  <th>Method:</th>             <td>Least Squares</td>  <th>  F-statistic:       </th> <td>   1300.</td> \n",
       "</tr>\n",
       "<tr>\n",
       "  <th>Date:</th>             <td>Fri, 31 Mar 2023</td> <th>  Prob (F-statistic):</th> <td>5.55e-177</td>\n",
       "</tr>\n",
       "<tr>\n",
       "  <th>Time:</th>                 <td>02:43:22</td>     <th>  Log-Likelihood:    </th> <td> -11327.</td> \n",
       "</tr>\n",
       "<tr>\n",
       "  <th>No. Observations:</th>      <td>   904</td>      <th>  AIC:               </th> <td>2.266e+04</td>\n",
       "</tr>\n",
       "<tr>\n",
       "  <th>Df Residuals:</th>          <td>   902</td>      <th>  BIC:               </th> <td>2.267e+04</td>\n",
       "</tr>\n",
       "<tr>\n",
       "  <th>Df Model:</th>              <td>     1</td>      <th>                     </th>     <td> </td>    \n",
       "</tr>\n",
       "<tr>\n",
       "  <th>Covariance Type:</th>      <td>nonrobust</td>    <th>                     </th>     <td> </td>    \n",
       "</tr>\n",
       "</table>\n",
       "<table class=\"simpletable\">\n",
       "<tr>\n",
       "       <td></td>         <th>coef</th>     <th>std err</th>      <th>t</th>      <th>P>|t|</th>  <th>[0.025</th>    <th>0.975]</th>  \n",
       "</tr>\n",
       "<tr>\n",
       "  <th>Intercept</th>  <td>-6335.5729</td> <td> 2605.310</td> <td>   -2.432</td> <td> 0.015</td> <td>-1.14e+04</td> <td>-1222.399</td>\n",
       "</tr>\n",
       "<tr>\n",
       "  <th>SecondDose</th> <td>    8.7678</td> <td>    0.243</td> <td>   36.053</td> <td> 0.000</td> <td>    8.291</td> <td>    9.245</td>\n",
       "</tr>\n",
       "</table>\n",
       "<table class=\"simpletable\">\n",
       "<tr>\n",
       "  <th>Omnibus:</th>       <td>361.068</td> <th>  Durbin-Watson:     </th> <td>   0.128</td>\n",
       "</tr>\n",
       "<tr>\n",
       "  <th>Prob(Omnibus):</th> <td> 0.000</td>  <th>  Jarque-Bera (JB):  </th> <td>5843.906</td>\n",
       "</tr>\n",
       "<tr>\n",
       "  <th>Skew:</th>          <td> 1.378</td>  <th>  Prob(JB):          </th> <td>    0.00</td>\n",
       "</tr>\n",
       "<tr>\n",
       "  <th>Kurtosis:</th>      <td>15.147</td>  <th>  Cond. No.          </th> <td>1.25e+04</td>\n",
       "</tr>\n",
       "</table><br/><br/>Notes:<br/>[1] Standard Errors assume that the covariance matrix of the errors is correctly specified.<br/>[2] The condition number is large, 1.25e+04. This might indicate that there are<br/>strong multicollinearity or other numerical problems."
      ],
      "text/plain": [
       "<class 'statsmodels.iolib.summary.Summary'>\n",
       "\"\"\"\n",
       "                            OLS Regression Results                            \n",
       "==============================================================================\n",
       "Dep. Variable:              ThirdDose   R-squared:                       0.590\n",
       "Model:                            OLS   Adj. R-squared:                  0.590\n",
       "Method:                 Least Squares   F-statistic:                     1300.\n",
       "Date:                Fri, 31 Mar 2023   Prob (F-statistic):          5.55e-177\n",
       "Time:                        02:43:22   Log-Likelihood:                -11327.\n",
       "No. Observations:                 904   AIC:                         2.266e+04\n",
       "Df Residuals:                     902   BIC:                         2.267e+04\n",
       "Df Model:                           1                                         \n",
       "Covariance Type:            nonrobust                                         \n",
       "==============================================================================\n",
       "                 coef    std err          t      P>|t|      [0.025      0.975]\n",
       "------------------------------------------------------------------------------\n",
       "Intercept  -6335.5729   2605.310     -2.432      0.015   -1.14e+04   -1222.399\n",
       "SecondDose     8.7678      0.243     36.053      0.000       8.291       9.245\n",
       "==============================================================================\n",
       "Omnibus:                      361.068   Durbin-Watson:                   0.128\n",
       "Prob(Omnibus):                  0.000   Jarque-Bera (JB):             5843.906\n",
       "Skew:                           1.378   Prob(JB):                         0.00\n",
       "Kurtosis:                      15.147   Cond. No.                     1.25e+04\n",
       "==============================================================================\n",
       "\n",
       "Notes:\n",
       "[1] Standard Errors assume that the covariance matrix of the errors is correctly specified.\n",
       "[2] The condition number is large, 1.25e+04. This might indicate that there are\n",
       "strong multicollinearity or other numerical problems.\n",
       "\"\"\""
      ]
     },
     "execution_count": 43,
     "metadata": {},
     "output_type": "execute_result"
    }
   ],
   "source": [
    "#simple linear regression between second dose and third dose\n",
    "model_2= sm.OLS.from_formula(\n",
    "    'ThirdDose ~ SecondDose', data=df).fit()\n",
    "model_2.summary()"
   ]
  },
  {
   "cell_type": "markdown",
   "id": "c9fe9540",
   "metadata": {},
   "source": [
    "The model_1 have a slightly higher R-squared value than the model_2. So as to predict the third dose better,model_1 was chosen. As the R- Squared value is more than 50%, we can conclude that this a good model.\n",
    "\n",
    "To further test the model's adequacy, the standardized residuals are plotted."
   ]
  },
  {
   "cell_type": "code",
   "execution_count": 44,
   "id": "60b23793",
   "metadata": {},
   "outputs": [],
   "source": [
    "#Recording the standardized residuals (error terms)#Plotting standardised residuals\n",
    "st_resids = model_1.get_influence().resid_studentized_internal"
   ]
  },
  {
   "cell_type": "code",
   "execution_count": 45,
   "id": "e45d90f3",
   "metadata": {},
   "outputs": [
    {
     "data": {
      "text/plain": [
       "<matplotlib.lines.Line2D at 0x2252f83bbe0>"
      ]
     },
     "execution_count": 45,
     "metadata": {},
     "output_type": "execute_result"
    },
    {
     "data": {
      "image/png": "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\n",
      "text/plain": [
       "<Figure size 640x480 with 1 Axes>"
      ]
     },
     "metadata": {},
     "output_type": "display_data"
    }
   ],
   "source": [
    "#Plotting standardised residuals in a scatter plot\n",
    "\n",
    "plt.scatter(model_1.fittedvalues,st_resids)\n",
    "plt.xlabel('Fitted values')\n",
    "plt.ylabel('Standardized residuals')\n",
    "plt.axhline (y=0, color='r',linestyle='--')"
   ]
  },
  {
   "cell_type": "code",
   "execution_count": 46,
   "id": "a671c5b2",
   "metadata": {},
   "outputs": [
    {
     "data": {
      "text/plain": [
       "(array([  1.,   0.,   0.,  20., 331., 522.,  15.,   7.,   2.,   6.]),\n",
       " array([-8.15157291, -6.52774572, -4.90391852, -3.28009133, -1.65626413,\n",
       "        -0.03243694,  1.59139025,  3.21521745,  4.83904464,  6.46287184,\n",
       "         8.08669903]),\n",
       " <BarContainer object of 10 artists>)"
      ]
     },
     "execution_count": 46,
     "metadata": {},
     "output_type": "execute_result"
    },
    {
     "data": {
      "image/png": "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\n",
      "text/plain": [
       "<Figure size 640x480 with 1 Axes>"
      ]
     },
     "metadata": {},
     "output_type": "display_data"
    }
   ],
   "source": [
    "#Creating a histogram with standardized residuals\n",
    "plt.hist(st_resids,bins=10)"
   ]
  },
  {
   "cell_type": "markdown",
   "id": "06916799",
   "metadata": {},
   "source": [
    "The above scatter plot and histogram reveals that residuals are not equally distributed around zero. The Jarque-Bera test(in the model_1 summary table) shows a probability of 0.00 making us to reject the null hypothesis of normal distribution. \n",
    "According to the scatter plot, assumptions of independence of error and homoskedasticity are voilated. These assumptions are likely to be violated as the data is collected over two years.\n",
    "Therefore, model fails all the adequacy tests."
   ]
  },
  {
   "cell_type": "markdown",
   "id": "61d60306",
   "metadata": {},
   "source": [
    "### Conclusion"
   ]
  },
  {
   "cell_type": "markdown",
   "id": "834a8443",
   "metadata": {},
   "source": [
    "By exploring the data set statistically, one can get a very comprehensive idea on the Covid-19 Vaccination process that has taken place in years 2021 and 2022. \n",
    "\n",
    "Through this data it was evident that in the considered time frame third dose was given the most and the most people who has taken the vaccines resides in England. \n",
    "\n",
    "Finally, a regression model has been predict the number of people taking the third vaccine depend on their first vaccine dose by 59.4% though it fails the adequacy tests on the error terms."
   ]
  },
  {
   "cell_type": "code",
   "execution_count": 47,
   "id": "ecefaddb",
   "metadata": {},
   "outputs": [
    {
     "data": {
      "application/javascript": [
       "var nb = IPython.notebook;\n",
       "var kernel = IPython.notebook.kernel;\n",
       "var command = \"NOTEBOOK_FULL_PATH = '\" + nb.notebook_path + \"'\";\n",
       "kernel.execute(command);\n"
      ],
      "text/plain": [
       "<IPython.core.display.Javascript object>"
      ]
     },
     "metadata": {},
     "output_type": "display_data"
    }
   ],
   "source": [
    "%%javascript\n",
    "var nb = IPython.notebook;\n",
    "var kernel = IPython.notebook.kernel;\n",
    "var command = \"NOTEBOOK_FULL_PATH = '\" + nb.notebook_path + \"'\";\n",
    "kernel.execute(command);"
   ]
  },
  {
   "cell_type": "code",
   "execution_count": 48,
   "id": "892332f7",
   "metadata": {},
   "outputs": [
    {
     "name": "stdout",
     "output_type": "stream",
     "text": [
      "Word count: 1208\n"
     ]
    }
   ],
   "source": [
    "import io\n",
    "from nbformat import read, NO_CONVERT\n",
    "\n",
    "with io.open(NOTEBOOK_FULL_PATH.split(\"/\")[-1], 'r', encoding='utf-8') as f:\n",
    "    nb = read(f, NO_CONVERT)\n",
    "\n",
    "word_count = 0\n",
    "for cell in nb.cells:\n",
    "    if cell.cell_type == \"markdown\":\n",
    "        word_count += len(cell['source'].replace('#', '').lstrip().split(' '))\n",
    "print(f\"Word count: {word_count}\")"
   ]
  },
  {
   "cell_type": "code",
   "execution_count": null,
   "id": "5487191c",
   "metadata": {},
   "outputs": [],
   "source": []
  }
 ],
 "metadata": {
  "kernelspec": {
   "display_name": "Python 3 (ipykernel)",
   "language": "python",
   "name": "python3"
  },
  "language_info": {
   "codemirror_mode": {
    "name": "ipython",
    "version": 3
   },
   "file_extension": ".py",
   "mimetype": "text/x-python",
   "name": "python",
   "nbconvert_exporter": "python",
   "pygments_lexer": "ipython3",
   "version": "3.9.13"
  }
 },
 "nbformat": 4,
 "nbformat_minor": 5
}
